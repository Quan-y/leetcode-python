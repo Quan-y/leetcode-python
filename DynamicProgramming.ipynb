{
 "cells": [
  {
   "cell_type": "markdown",
   "metadata": {},
   "source": [
    "## Dynamic programming"
   ]
  },
  {
   "cell_type": "markdown",
   "metadata": {},
   "source": [
    "递归三要素  \n",
    "1. 递归的定义  \n",
    "2. 递归出口\n",
    "3. 问题拆解，子问题 \n",
    "\n",
    "动态规划两种实现方法：  \n",
    "\n",
    "1. 多重循环（自顶向下，自底向上）\n",
    "2. 记忆化搜索\n",
    "\n",
    "递归两种实现方法：  \n",
    "\n",
    "1. 分治\n",
    "2. 遍历\n",
    "\n",
    "使用动态规划满足3个条件之一：\n",
    "\n",
    "1. 求最大最小值\n",
    "2. 判断是否可行\n",
    "3. 统计方案个数\n",
    "\n",
    "不使用动态规划：\n",
    "\n",
    "1. 具体的方案而不是方案个数\n",
    "2. 输入是集合而不是序列\n",
    "3. 暴力算法的复杂度已经是多项式级别 ($2^n, n!$ to $n^2, n^3$) Good! ($n^3$ to $n^2$)\n",
    "\n",
    "动态规划四要素：\n",
    "\n",
    "1. 状态 State 灵感，创造力，存储小规模问题的结果\n",
    "2. 方程 Function 状态之间的联系，怎么通过小的状态，来算大的状态\n",
    "3. 初始化 Intialization 最极限的小状态是什么, 起点\n",
    "4. 答案 Answer 最大的那个状态是什么，终点\n"
   ]
  },
  {
   "cell_type": "markdown",
   "metadata": {},
   "source": [
    "常见动态规划类型\n",
    "\n",
    "1. 坐标型动态规划\n",
    "2. 序列型动态规划\n",
    "3. 双序列动态规划\n",
    "4. 划分型动态规划\n",
    "5. 背包型动态规划\n",
    "6. 区间型动态规划"
   ]
  },
  {
   "cell_type": "markdown",
   "metadata": {},
   "source": [
    "### 1. Triangle (120)"
   ]
  },
  {
   "cell_type": "code",
   "execution_count": 2,
   "metadata": {},
   "outputs": [],
   "source": [
    "import sys\n",
    "class Solution(object):\n",
    "    def minimumTotal(self, triangle):\n",
    "        \"\"\"\n",
    "        :type triangle: List[List[int]]\n",
    "        :rtype: int\n",
    "        \"\"\"\n",
    "        if not triangle:\n",
    "            return 0\n",
    "        # initialization\n",
    "        rowNum = len(triangle)\n",
    "        dp = [[sys.maxint for i in range(rowNum)] for j in range(rowNum)]\n",
    "        dp[0][0] = triangle[0][0]\n",
    "        for i in range(1, rowNum):\n",
    "            for j in range(i+1):\n",
    "                # left boundary\n",
    "                if j == 0:\n",
    "                    dp[i][0] = dp[i-1][0] + triangle[i][0]\n",
    "                # right boundary\n",
    "                elif j == i:\n",
    "                    dp[i][j] = dp[i-1][j-1] + triangle[i][j]\n",
    "                # normal\n",
    "                else:\n",
    "                    dp[i][j] = min(dp[i-1][j-1], dp[i-1][j]) + triangle[i][j]\n",
    "        minResult = sys.maxint\n",
    "        for i in range(rowNum):\n",
    "            if dp[rowNum - 1][i] < minResult:\n",
    "                minResult = dp[rowNum - 1][i]\n",
    "        return minResult "
   ]
  },
  {
   "cell_type": "markdown",
   "metadata": {},
   "source": [
    "### 2. Pascal's Triangle (118)"
   ]
  },
  {
   "cell_type": "code",
   "execution_count": 4,
   "metadata": {},
   "outputs": [],
   "source": [
    "class Solution(object):\n",
    "    def generate(self, numRows):\n",
    "        \"\"\"\n",
    "        :type numRows: int\n",
    "        :rtype: List[List[int]]\n",
    "        \"\"\"\n",
    "        if numRows == 0:\n",
    "            return []\n",
    "        # initialization\n",
    "        pascal = [[0 for i in range(i)] for i in range(1, numRows+1)]\n",
    "        pascal[0][0] = 1\n",
    "        # dynamic programming\n",
    "        for i in range(1, numRows):\n",
    "            for j in range(i+1):\n",
    "                if j == 0:\n",
    "                    pascal[i][j] = 1\n",
    "                elif j == i:\n",
    "                    pascal[i][j] = 1\n",
    "                else:\n",
    "                    pascal[i][j] = pascal[i-1][j-1] + pascal[i-1][j]\n",
    "        return pascal\n",
    "        "
   ]
  },
  {
   "cell_type": "markdown",
   "metadata": {},
   "source": [
    "### 3. Pascal's Triangle II (119)"
   ]
  },
  {
   "cell_type": "code",
   "execution_count": 5,
   "metadata": {},
   "outputs": [],
   "source": [
    "class Solution(object):\n",
    "    def getRow(self, rowIndex):\n",
    "        \"\"\"\n",
    "        :type rowIndex: int\n",
    "        :rtype: List[int]\n",
    "        \"\"\"\n",
    "        if rowIndex < 0:\n",
    "            return []\n",
    "        if rowIndex == 0:\n",
    "            return [1]\n",
    "        # initialization\n",
    "        pascal2 = [[0 for j in range(i)] for i in range(1, rowIndex+2)]\n",
    "        pascal2[0][0] = 1\n",
    "        # dynamic programming\n",
    "        for i in range(1, rowIndex+1):\n",
    "            for j in range(i+1):\n",
    "                if j == 0:\n",
    "                    pascal2[i][j] = 1\n",
    "                elif j == i:\n",
    "                    pascal2[i][j] = 1\n",
    "                else:\n",
    "                    pascal2[i][j] = pascal2[i-1][j] + pascal2[i-1][j-1]\n",
    "        return pascal2[i]"
   ]
  },
  {
   "cell_type": "markdown",
   "metadata": {},
   "source": [
    "### 4. House Robber (198)"
   ]
  },
  {
   "cell_type": "code",
   "execution_count": 1,
   "metadata": {},
   "outputs": [],
   "source": [
    "class Solution(object):\n",
    "    def rob(self, nums):\n",
    "        \"\"\"\n",
    "        :type nums: List[int]\n",
    "        :rtype: int\n",
    "        \"\"\"\n",
    "        if len(nums) <= 1:\n",
    "            return sum(nums)\n",
    "        dp = [0 for i in range(len(nums))]\n",
    "        dp[0] = nums[0]\n",
    "        dp[1] = max(nums[0], nums[1])\n",
    "        for i in range(2, len(nums)):\n",
    "            dp[i] = max(dp[i-1], dp[i-2]+nums[i])\n",
    "        print(dp)\n",
    "        return max(dp)"
   ]
  },
  {
   "cell_type": "markdown",
   "metadata": {},
   "source": [
    "### 5. House Robber II (213)"
   ]
  },
  {
   "cell_type": "code",
   "execution_count": 3,
   "metadata": {},
   "outputs": [],
   "source": [
    "class Solution(object):\n",
    "    def rob(self, nums):\n",
    "        \"\"\"\n",
    "        :type nums: List[int]\n",
    "        :rtype: int\n",
    "        \"\"\"\n",
    "        if len(nums) <= 1:\n",
    "            return sum(nums)\n",
    "        if len(nums) == 2:\n",
    "            return max(nums)\n",
    "        \n",
    "        nums1 = nums[1:]\n",
    "        nums2 = nums[:-1]\n",
    "        \n",
    "        dp = [0]*len(nums1)\n",
    "        dp[0] = nums1[0]\n",
    "        dp[1] = max(nums1[0], nums1[1])\n",
    "        for i in range(2, len(nums1)):\n",
    "            dp[i] = max(dp[i-1], nums1[i] + dp[i-2])\n",
    "        \n",
    "        maxdp1 = max(dp)\n",
    "        \n",
    "        dp = [0]*len(nums2)\n",
    "        dp[0] = nums2[0]\n",
    "        dp[1] = max(nums2[0], nums2[1])\n",
    "        for i in range(2, len(nums2)):\n",
    "            dp[i] = max(dp[i-1], nums2[i] + dp[i-2])\n",
    "        \n",
    "        return max(maxdp1, max(dp))"
   ]
  },
  {
   "cell_type": "markdown",
   "metadata": {},
   "source": [
    "### 6. Best Time to Buy and Sell Stock (121)"
   ]
  },
  {
   "cell_type": "code",
   "execution_count": 4,
   "metadata": {},
   "outputs": [],
   "source": [
    "class Solution(object):\n",
    "    def maxProfit(self, prices):\n",
    "        \"\"\"\n",
    "        :type prices: List[int]\n",
    "        :rtype: int\n",
    "        \"\"\"\n",
    "        if len(prices) <= 1:\n",
    "            return 0\n",
    "        if len(prices) == 2:\n",
    "            return max(0, prices[1] - prices[0])\n",
    "        dp = [0]*len(prices)\n",
    "        minprice = min(prices[0], prices[1])\n",
    "        for i in range(1, len(prices)):\n",
    "            dp[i] = max(dp[i-1], prices[i] - minprice)\n",
    "            minprice = min(minprice, prices[i])\n",
    "        return max(dp)"
   ]
  },
  {
   "cell_type": "markdown",
   "metadata": {},
   "source": [
    "### 7. Best Time to Buy and Sell Stock II (122)"
   ]
  },
  {
   "cell_type": "code",
   "execution_count": 5,
   "metadata": {},
   "outputs": [],
   "source": [
    "class Solution:\n",
    "    def maxProfit(self, prices):\n",
    "        if not prices:\n",
    "            return 0\n",
    "        low, profit, rst = prices[0], 0, 0\n",
    "        for i in range(len(prices)-1):\n",
    "            if prices[i+1] - prices[i] < 0:\n",
    "                low = prices[i+1]\n",
    "                rst += profit\n",
    "                profit = 0\n",
    "            else:\n",
    "                profit = prices[i+1] - low\n",
    "        rst += profit\n",
    "        return rst"
   ]
  },
  {
   "cell_type": "markdown",
   "metadata": {},
   "source": [
    "### 8. Climbing Stairs (70)"
   ]
  },
  {
   "cell_type": "code",
   "execution_count": 1,
   "metadata": {},
   "outputs": [],
   "source": [
    "class Solution(object):\n",
    "    def climbStairs(self, n):\n",
    "        \"\"\"\n",
    "        :type n: int\n",
    "        :rtype: int\n",
    "        \"\"\"\n",
    "        if n == 1:\n",
    "            return 1\n",
    "        dp = [0 for i in range(n+1)]\n",
    "        dp[1] = 1\n",
    "        dp[2] = 2\n",
    "        for i in range(3, n+1):\n",
    "            dp[i] = dp[i-1] + dp[i-2]\n",
    "        return dp[n]"
   ]
  },
  {
   "cell_type": "markdown",
   "metadata": {},
   "source": [
    "### 9. Unique Path (62)"
   ]
  },
  {
   "cell_type": "code",
   "execution_count": 2,
   "metadata": {},
   "outputs": [],
   "source": [
    "class Solution(object):\n",
    "    def uniquePaths(self, m, n):\n",
    "        \"\"\"\n",
    "        :type m: int\n",
    "        :type n: int\n",
    "        :rtype: int\n",
    "        \"\"\"\n",
    "        if m == 1 or n == 1:\n",
    "            return 1\n",
    "        # dynamic programming\n",
    "        dp = [[0 for i in range(n)] for j in range(m)]\n",
    "        # left\n",
    "        for i in range(1, m):\n",
    "            dp[i][0] = 1\n",
    "        for i in range(1, n):\n",
    "            dp[0][i] = 1\n",
    "        for i in range(1, m):\n",
    "            for j in range(1, n):\n",
    "                dp[i][j] = dp[i-1][j] + dp[i][j-1]\n",
    "        return dp[-1][-1]"
   ]
  },
  {
   "cell_type": "markdown",
   "metadata": {},
   "source": [
    "### 10. Unique Path II (63)"
   ]
  },
  {
   "cell_type": "code",
   "execution_count": null,
   "metadata": {},
   "outputs": [],
   "source": []
  },
  {
   "cell_type": "markdown",
   "metadata": {},
   "source": [
    "### 2. Minimum Path Sum (64)\n",
    "初始化一个二维的动态规划时，初始化第0行与第0列"
   ]
  },
  {
   "cell_type": "markdown",
   "metadata": {},
   "source": [
    "### 5. Climbing Stairs (70)"
   ]
  },
  {
   "cell_type": "code",
   "execution_count": null,
   "metadata": {},
   "outputs": [],
   "source": []
  },
  {
   "cell_type": "markdown",
   "metadata": {},
   "source": [
    "### 6. Jump Game (55)\n",
    "贪心法$O(n)$, 动态规划$O(n^2)$"
   ]
  },
  {
   "cell_type": "code",
   "execution_count": null,
   "metadata": {},
   "outputs": [],
   "source": []
  },
  {
   "cell_type": "markdown",
   "metadata": {},
   "source": [
    "### 7. Longest Increasing subsequence (300)"
   ]
  },
  {
   "cell_type": "code",
   "execution_count": null,
   "metadata": {},
   "outputs": [],
   "source": []
  }
 ],
 "metadata": {
  "kernelspec": {
   "display_name": "Python 3",
   "language": "python",
   "name": "python3"
  },
  "language_info": {
   "codemirror_mode": {
    "name": "ipython",
    "version": 3
   },
   "file_extension": ".py",
   "mimetype": "text/x-python",
   "name": "python",
   "nbconvert_exporter": "python",
   "pygments_lexer": "ipython3",
   "version": "3.6.7"
  }
 },
 "nbformat": 4,
 "nbformat_minor": 2
}
