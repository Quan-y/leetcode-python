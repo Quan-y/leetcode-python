{
 "cells": [
  {
   "cell_type": "markdown",
   "metadata": {},
   "source": [
    "## Dynamic programming"
   ]
  },
  {
   "cell_type": "markdown",
   "metadata": {},
   "source": [
    "递归三要素  \n",
    "1. 递归的定义  \n",
    "2. 递归出口\n",
    "3. 问题拆解，子问题 \n",
    "\n",
    "动态规划两种实现方法：  \n",
    "\n",
    "1. 多重循环（自顶向下，自底向上）\n",
    "2. 记忆化搜索\n",
    "\n",
    "递归两种实现方法：  \n",
    "\n",
    "1. 分治\n",
    "2. 遍历\n",
    "\n",
    "使用动态规划满足3个条件之一：\n",
    "\n",
    "1. 求最大最小值\n",
    "2. 判断是否可行\n",
    "3. 统计方案个数\n",
    "\n",
    "不使用动态规划：\n",
    "\n",
    "1. 具体的方案而不是方案个数\n",
    "2. 输入是集合而不是序列\n",
    "3. 暴力算法的复杂度已经是多项式级别 ($2^n, n!$ to $n^2, n^3$) Good! ($n^3$ to $n^2$)\n",
    "\n",
    "动态规划四要素：\n",
    "\n",
    "1. 状态State\n",
    "2. 方程\n",
    "3. 初始化\n",
    "4. 答案"
   ]
  },
  {
   "cell_type": "markdown",
   "metadata": {},
   "source": [
    "常见动态规划类型\n",
    "\n",
    "1. 坐标型动态规划\n",
    "2. 序列型动态规划\n",
    "3. 双序列动态规划\n",
    "4. 划分型动态规划\n",
    "5. 背包型动态规划\n",
    "6. 区间型动态规划"
   ]
  },
  {
   "cell_type": "markdown",
   "metadata": {},
   "source": [
    "### 1. Triangle (120)"
   ]
  },
  {
   "cell_type": "code",
   "execution_count": null,
   "metadata": {},
   "outputs": [],
   "source": []
  },
  {
   "cell_type": "markdown",
   "metadata": {},
   "source": [
    "### 2. Minimum Path Sum (64)\n",
    "初始化一个二维的动态规划时，初始化第0行与第0列"
   ]
  },
  {
   "cell_type": "markdown",
   "metadata": {},
   "source": [
    "### 3. Unique Path (62)"
   ]
  },
  {
   "cell_type": "code",
   "execution_count": null,
   "metadata": {},
   "outputs": [],
   "source": []
  },
  {
   "cell_type": "markdown",
   "metadata": {},
   "source": [
    "### 4. Unique Path II (63)"
   ]
  },
  {
   "cell_type": "code",
   "execution_count": null,
   "metadata": {},
   "outputs": [],
   "source": []
  },
  {
   "cell_type": "markdown",
   "metadata": {},
   "source": [
    "### 5. Climbing Stairs (70)"
   ]
  },
  {
   "cell_type": "code",
   "execution_count": null,
   "metadata": {},
   "outputs": [],
   "source": []
  },
  {
   "cell_type": "markdown",
   "metadata": {},
   "source": [
    "### 6. Jump Game (55)\n",
    "贪心法$O(n)$, 动态规划$O(n^2)$"
   ]
  },
  {
   "cell_type": "code",
   "execution_count": null,
   "metadata": {},
   "outputs": [],
   "source": []
  },
  {
   "cell_type": "markdown",
   "metadata": {},
   "source": [
    "### 7. Longest Increasing subsequence (300)"
   ]
  },
  {
   "cell_type": "code",
   "execution_count": null,
   "metadata": {},
   "outputs": [],
   "source": []
  }
 ],
 "metadata": {
  "kernelspec": {
   "display_name": "Python 3",
   "language": "python",
   "name": "python3"
  },
  "language_info": {
   "codemirror_mode": {
    "name": "ipython",
    "version": 3
   },
   "file_extension": ".py",
   "mimetype": "text/x-python",
   "name": "python",
   "nbconvert_exporter": "python",
   "pygments_lexer": "ipython3",
   "version": "3.6.8"
  }
 },
 "nbformat": 4,
 "nbformat_minor": 2
}
