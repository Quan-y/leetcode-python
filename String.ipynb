{
 "cells": [
  {
   "cell_type": "markdown",
   "metadata": {},
   "source": [
    "### 1. Reverse String (344)"
   ]
  },
  {
   "cell_type": "code",
   "execution_count": 3,
   "metadata": {},
   "outputs": [],
   "source": [
    "class Solution:\n",
    "    def reverseString(self, s):\n",
    "        \"\"\"\n",
    "        Do not return anything, modify s in-place instead.\n",
    "        \"\"\"\n",
    "        start, end = 0, len(s) - 1\n",
    "        while start + 1 <= end:\n",
    "            tmp = s[start]\n",
    "            s[start] = s[end]\n",
    "            s[end] = tmp\n",
    "            start += 1\n",
    "            end -= 1"
   ]
  },
  {
   "cell_type": "markdown",
   "metadata": {},
   "source": [
    "### 2. Reverse String II (541)"
   ]
  },
  {
   "cell_type": "code",
   "execution_count": 11,
   "metadata": {},
   "outputs": [],
   "source": [
    "class Solution:\n",
    "    def reverseStr(self, s: 'str', k: 'int') -> 'str':\n",
    "        length = len(s)\n",
    "        if length < 1 or length > 10000:\n",
    "            return 0\n",
    "        res = ''\n",
    "        while length > 0:\n",
    "            if length >= 2*k:\n",
    "                res += s[:k][::-1]\n",
    "                res += s[k:2*k]\n",
    "                s = s[2*k:]\n",
    "            if length >= k and length < 2*k:\n",
    "                res += s[:k][::-1]\n",
    "                res += s[k:]\n",
    "                s = s[k:]\n",
    "            if length < k:\n",
    "                res += s[::-1]\n",
    "            length -= 2*k\n",
    "        return res"
   ]
  },
  {
   "cell_type": "markdown",
   "metadata": {},
   "source": [
    "### 3. Reverse Words in a String (151)"
   ]
  },
  {
   "cell_type": "code",
   "execution_count": 12,
   "metadata": {},
   "outputs": [],
   "source": [
    "class Solution(object):\n",
    "    def reverseWords(self, s):\n",
    "        \"\"\"\n",
    "        :type s: str\n",
    "        :rtype: str\n",
    "        \"\"\"\n",
    "        return ' '.join(s.split()[::-1])"
   ]
  },
  {
   "cell_type": "markdown",
   "metadata": {},
   "source": [
    "### 4. Reverse Words in a String III (557)"
   ]
  },
  {
   "cell_type": "code",
   "execution_count": 13,
   "metadata": {},
   "outputs": [],
   "source": [
    "class Solution:\n",
    "    def reverseWords(self, s: 'str') -> 'str':\n",
    "        res = \"\"\n",
    "        if s == \"\":\n",
    "            return res\n",
    "        start = 0\n",
    "        for i, item in enumerate(s):\n",
    "            if item == \" \":\n",
    "                res += s[start:i][::-1] + item\n",
    "                start = i+1\n",
    "        res += s[start:i+1][::-1]\n",
    "        return res"
   ]
  },
  {
   "cell_type": "code",
   "execution_count": 14,
   "metadata": {},
   "outputs": [],
   "source": [
    "class Solution:\n",
    "    def reverseWords(self, s):\n",
    "        if s == \"\":\n",
    "            return \"\"\n",
    "        res = []\n",
    "        for i in s.split():\n",
    "            res.append(i[::-1])\n",
    "        return ' '.join(res)"
   ]
  },
  {
   "cell_type": "markdown",
   "metadata": {},
   "source": [
    "### 5. Compare Version Numbers (165)"
   ]
  },
  {
   "cell_type": "code",
   "execution_count": 16,
   "metadata": {},
   "outputs": [],
   "source": [
    "class Solution(object):\n",
    "    def compareVersion(self, version1, version2):\n",
    "        \"\"\"\n",
    "        :type version1: str\n",
    "        :type version2: str\n",
    "        :rtype: int\n",
    "        \"\"\"\n",
    "        v1 = version1.split('.')\n",
    "        v2 = version2.split('.')\n",
    "        if len(v1) >= len(v2):\n",
    "            res = self.compare(v1, v2)\n",
    "            return res\n",
    "        else:\n",
    "            res = self.compare(v2, v1)\n",
    "            return -res\n",
    "    \n",
    "    def compare(self, vlong, vshort):\n",
    "        # default vlong = v1\n",
    "        for i, item in enumerate(vlong):\n",
    "            if i <= len(vshort) - 1:\n",
    "                vshort_value = int(vshort[i])\n",
    "            else:\n",
    "                vshort_value = 0\n",
    "            item = int(item)\n",
    "            if item == vshort_value:\n",
    "                continue\n",
    "            elif item > vshort_value:\n",
    "                return 1\n",
    "            elif item < vshort_value:\n",
    "                return -1\n",
    "        return 0   "
   ]
  },
  {
   "cell_type": "markdown",
   "metadata": {},
   "source": [
    "### 6. String to Integer (atoi) (8)"
   ]
  },
  {
   "cell_type": "code",
   "execution_count": 17,
   "metadata": {},
   "outputs": [],
   "source": [
    "class Solution:\n",
    "    def myAtoi(self, str):\n",
    "        \"\"\"\n",
    "        :type str: str\n",
    "        :rtype: int\n",
    "        \"\"\"\n",
    "        import re\n",
    "        x=re.search('^\\s*([-\\+]?\\d+)', str)\n",
    "        if x:\n",
    "            y = int (x.group(1))\n",
    "            if y<-2**31:\n",
    "                return -2**31\n",
    "            if y> 2**31-1:\n",
    "                return 2**31-1\n",
    "            return y\n",
    "        else:\n",
    "            return 0"
   ]
  },
  {
   "cell_type": "markdown",
   "metadata": {},
   "source": [
    "### 7. Unique Email Addresses (929)"
   ]
  },
  {
   "cell_type": "code",
   "execution_count": 15,
   "metadata": {},
   "outputs": [],
   "source": [
    "class Solution(object):\n",
    "    def numUniqueEmails(self, emails):\n",
    "        \"\"\"\n",
    "        :type emails: List[str]\n",
    "        :rtype: int\n",
    "        \"\"\"\n",
    "        correct_email = map(self.correctfun, emails)\n",
    "        return len(set(correct_email))\n",
    "    \n",
    "    def correctfun(self, s):\n",
    "        try:\n",
    "            plus_index = s.index(\"+\")\n",
    "        except ValueError:\n",
    "            plus_index = ''\n",
    "        atindex = s.index('@')\n",
    "        sfont = s[:atindex]\n",
    "        send = s[atindex:]\n",
    "        if plus_index != '':\n",
    "            sfont = sfont[:plus_index]\n",
    "            sfont = ''.join(sfont.split('.'))\n",
    "        return sfont+send"
   ]
  },
  {
   "cell_type": "code",
   "execution_count": 13,
   "metadata": {},
   "outputs": [
    {
     "data": {
      "text/plain": [
       "'testemail@leet.code.com'"
      ]
     },
     "execution_count": 13,
     "metadata": {},
     "output_type": "execute_result"
    }
   ],
   "source": [
    "s = \"test.email+alex@leet.code.com\"\n",
    "correctfun(s)"
   ]
  },
  {
   "cell_type": "markdown",
   "metadata": {},
   "source": [
    "### 8. Longest Substring Without (3)"
   ]
  },
  {
   "cell_type": "code",
   "execution_count": 1,
   "metadata": {},
   "outputs": [],
   "source": [
    "class Solution(object):\n",
    "    def lengthOfLongestSubstring(self, s):\n",
    "        \"\"\"\n",
    "        :type s: str\n",
    "        :rtype: int\n",
    "        \"\"\"\n",
    "        if not s:\n",
    "            return 0\n",
    "        left = 0\n",
    "        right = 0\n",
    "        lens = len(s)\n",
    "        seen = {}\n",
    "        maxlen = 0\n",
    "        while left < lens:\n",
    "            while right < lens and ((s[right] not in seen) or (seen[s[right]] == False)):\n",
    "                seen[s[right]] = True\n",
    "                substrlen = right - left + 1\n",
    "                maxlen = max(maxlen, substrlen)\n",
    "                right += 1\n",
    "            seen[s[left]] = False\n",
    "            left += 1\n",
    "        return maxlen"
   ]
  }
 ],
 "metadata": {
  "kernelspec": {
   "display_name": "Python 3",
   "language": "python",
   "name": "python3"
  },
  "language_info": {
   "codemirror_mode": {
    "name": "ipython",
    "version": 3
   },
   "file_extension": ".py",
   "mimetype": "text/x-python",
   "name": "python",
   "nbconvert_exporter": "python",
   "pygments_lexer": "ipython3",
   "version": "3.6.7"
  }
 },
 "nbformat": 4,
 "nbformat_minor": 2
}
