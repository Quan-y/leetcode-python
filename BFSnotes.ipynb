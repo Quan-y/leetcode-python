{
 "cells": [
  {
   "cell_type": "markdown",
   "metadata": {},
   "source": [
    "### BFS\n",
    "\n",
    "**Leetcode**  \n",
    "1. Binary Tree Right Side View (199)\n",
    "3. Maximum Depth of Binary Tree (104)\n",
    "4. Find Bottom Left Tree Value (513)\n",
    "2. Maximum Depth of N-ary Tree (559)\n",
    "6. Find Largest Value in Each Tree Row (515)\n",
    "7. Binary Tree Zigzag Level Order Traversal (103)\n",
    "5. Employee Importance (690)\n",
    "8. Minesweeper (529)\n",
    "9. Open the Lock (752)"
   ]
  },
  {
   "cell_type": "markdown",
   "metadata": {},
   "source": [
    "**Understand Tree**"
   ]
  },
  {
   "cell_type": "code",
   "execution_count": 9,
   "metadata": {},
   "outputs": [],
   "source": [
    "class TreeNode(object):\n",
    "    def __init__(self, x):\n",
    "        self.val = x\n",
    "        self.left = None\n",
    "        self.right = None"
   ]
  },
  {
   "cell_type": "code",
   "execution_count": 10,
   "metadata": {},
   "outputs": [],
   "source": [
    "root = TreeNode(3)\n",
    "root.left = TreeNode(2)\n",
    "root.right = TreeNode(1)\n",
    "root.left.left = TreeNode(1)\n",
    "root.left.right = TreeNode(3)\n",
    "root.right.left = TreeNode(2)\n",
    "root.right.right = TreeNode(4)"
   ]
  },
  {
   "cell_type": "raw",
   "metadata": {},
   "source": [
    "       3      \n",
    "     /   \\\n",
    "    2     1     \n",
    "   / \\   / \\\n",
    "  1   3 2   4   "
   ]
  },
  {
   "cell_type": "markdown",
   "metadata": {},
   "source": [
    "O(n) n是节点个数  \n",
    "O(m) m是边的个数  \n",
    "O(m+n)"
   ]
  },
  {
   "cell_type": "markdown",
   "metadata": {},
   "source": [
    "[[3],\n",
    "[2 1]\n",
    "[1 3 2 4]]"
   ]
  },
  {
   "cell_type": "markdown",
   "metadata": {},
   "source": [
    "**How to do BFS**"
   ]
  },
  {
   "cell_type": "code",
   "execution_count": 7,
   "metadata": {},
   "outputs": [
    {
     "data": {
      "text/plain": [
       "1"
      ]
     },
     "execution_count": 7,
     "metadata": {},
     "output_type": "execute_result"
    }
   ],
   "source": [
    "from collections import deque\n",
    "queue = deque([1,2,3])\n",
    "queue.popleft()"
   ]
  },
  {
   "cell_type": "code",
   "execution_count": 21,
   "metadata": {
    "scrolled": true
   },
   "outputs": [
    {
     "data": {
      "text/plain": [
       "1"
      ]
     },
     "execution_count": 21,
     "metadata": {},
     "output_type": "execute_result"
    }
   ],
   "source": [
    "a = [1,2,3]\n",
    "a.pop(0)"
   ]
  },
  {
   "cell_type": "markdown",
   "metadata": {},
   "source": [
    "**Using Queue**  \n",
    "layer1  \n",
    "[3]  \n",
    "[]  3  \n",
    "result: [3]\n",
    "\n",
    "layer2  \n",
    "[2, 1]  \n",
    "[1] 2  \n",
    "[1, 1, 3]  \n",
    "[1, 3] 1  \n",
    "result: [2, 1]\n",
    "\n",
    "layer3  \n",
    "[1, 3, 2, 4]  \n",
    "[3, 2, 4] 1  \n",
    "[2, 4] 3  \n",
    "[4] 2  \n",
    "[] 4  \n",
    "result: [1, 3, 2, 4]"
   ]
  },
  {
   "cell_type": "code",
   "execution_count": 18,
   "metadata": {},
   "outputs": [],
   "source": [
    "from collections import deque\n",
    "def bfs(root):\n",
    "    if root is None:\n",
    "        return []\n",
    "    queue = deque([root])\n",
    "    result = []\n",
    "    while queue:\n",
    "        layer = []\n",
    "        for i in range(len(queue)):\n",
    "            curnode = queue.popleft()\n",
    "            layer.append(curnode.val)\n",
    "            if curnode.left != None:\n",
    "                queue.append(curnode.left)\n",
    "            if curnode.right != None:\n",
    "                queue.append(curnode.right)\n",
    "    return layer[0]"
   ]
  },
  {
   "cell_type": "code",
   "execution_count": 19,
   "metadata": {},
   "outputs": [],
   "source": [
    "from collections import deque\n",
    "def bfs(root):\n",
    "    if root is None:\n",
    "        return None\n",
    "    queue = deque([root])\n",
    "    while queue:\n",
    "        layer = []\n",
    "        for eachnode in range(len(queue)):\n",
    "            curnode = queue.popleft()\n",
    "            layer.append(curnode.val)\n",
    "            if curnode.left != None:\n",
    "                queue.append(curnode.left)\n",
    "            if curnode.right != None:\n",
    "                queue.append(curnode.right)\n",
    "    return layer[0]"
   ]
  },
  {
   "cell_type": "code",
   "execution_count": 20,
   "metadata": {},
   "outputs": [
    {
     "data": {
      "text/plain": [
       "1"
      ]
     },
     "execution_count": 20,
     "metadata": {},
     "output_type": "execute_result"
    }
   ],
   "source": [
    "bfs(root)"
   ]
  },
  {
   "cell_type": "markdown",
   "metadata": {},
   "source": [
    "**Employee importance**"
   ]
  },
  {
   "cell_type": "code",
   "execution_count": 11,
   "metadata": {
    "scrolled": true
   },
   "outputs": [
    {
     "data": {
      "text/plain": [
       "[[1, 5, [2, 3]], [2, 3, []], [3, 3, []]]"
      ]
     },
     "execution_count": 11,
     "metadata": {},
     "output_type": "execute_result"
    }
   ],
   "source": [
    "[[1, 5, [2, 3]], \n",
    " [2, 3, []], \n",
    " [3, 3, []]]"
   ]
  },
  {
   "cell_type": "raw",
   "metadata": {
    "hideOutput": true
   },
   "source": [
    "    1(5)\n",
    "  /   \\\n",
    "2(3)   3(3)"
   ]
  }
 ],
 "metadata": {
  "kernelspec": {
   "display_name": "Python 3",
   "language": "python",
   "name": "python3"
  },
  "language_info": {
   "codemirror_mode": {
    "name": "ipython",
    "version": 3
   },
   "file_extension": ".py",
   "mimetype": "text/x-python",
   "name": "python",
   "nbconvert_exporter": "python",
   "pygments_lexer": "ipython3",
   "version": "3.6.7"
  }
 },
 "nbformat": 4,
 "nbformat_minor": 2
}
