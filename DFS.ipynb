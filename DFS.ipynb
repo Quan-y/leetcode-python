{
 "cells": [
  {
   "cell_type": "markdown",
   "metadata": {},
   "source": [
    "### 1. Path Sum (112)"
   ]
  },
  {
   "cell_type": "code",
   "execution_count": 1,
   "metadata": {},
   "outputs": [],
   "source": [
    "# Definition for a binary tree node.\n",
    "# class TreeNode(object):\n",
    "#     def __init__(self, x):\n",
    "#         self.val = x\n",
    "#         self.left = None\n",
    "#         self.right = None\n",
    "\n",
    "class Solution(object):\n",
    "    def hasPathSum(self, root, sum):\n",
    "        \"\"\"\n",
    "        :type root: TreeNode\n",
    "        :type sum: int\n",
    "        :rtype: bool\n",
    "        \"\"\"\n",
    "        if not root:\n",
    "            return False\n",
    "\n",
    "        stack = []\n",
    "        stack.append((root, root.val))\n",
    "        while stack:\n",
    "            curNode, curSum = stack.pop()\n",
    "            if not curNode.left and not curNode.right and curSum == sum:\n",
    "                return True\n",
    "            if curNode.left:\n",
    "                stack.append((curNode.left, curSum + curNode.left.val))\n",
    "            if curNode.right:\n",
    "                stack.append((curNode.right, curSum + curNode.right.val))\n",
    "\n",
    "        return False"
   ]
  },
  {
   "cell_type": "markdown",
   "metadata": {},
   "source": [
    "### 2. Path Sum II (113)"
   ]
  },
  {
   "cell_type": "code",
   "execution_count": 2,
   "metadata": {},
   "outputs": [],
   "source": [
    "# Definition for a binary tree node.\n",
    "# class TreeNode(object):\n",
    "#     def __init__(self, x):\n",
    "#         self.val = x\n",
    "#         self.left = None\n",
    "#         self.right = None\n",
    "class Solution(object):\n",
    "    def pathSum(self, root, sum):\n",
    "        \"\"\"\n",
    "        :type root: TreeNode\n",
    "        :type sum: int\n",
    "        :rtype: List[List[int]]\n",
    "        \"\"\"\n",
    "        if not root:\n",
    "            return []\n",
    "        stack = []\n",
    "        result = []\n",
    "        stack.append((root, root.val, [root.val]))\n",
    "        while stack:\n",
    "            node, cursum, curpath = stack.pop()\n",
    "            if not node.left and not node.right and cursum == sum:\n",
    "                result.append(curpath)\n",
    "            if node.left:\n",
    "                stack.append((node.left, cursum + node.left.val, curpath + [node.left.val]))\n",
    "            if node.right:\n",
    "                stack.append((node.right, cursum + node.right.val, curpath + [node.right.val]))\n",
    "        return result\n",
    "\n",
    "    "
   ]
  },
  {
   "cell_type": "markdown",
   "metadata": {},
   "source": [
    "### 3. Sum Root to Leaf Numbers (129)"
   ]
  },
  {
   "cell_type": "code",
   "execution_count": 3,
   "metadata": {},
   "outputs": [],
   "source": [
    "# Definition for a binary tree node.\n",
    "# class TreeNode(object):\n",
    "#     def __init__(self, x):\n",
    "#         self.val = x\n",
    "#         self.left = None\n",
    "#         self.right = None\n",
    "\n",
    "class Solution(object):\n",
    "    def sumNumbers(self, root):\n",
    "        \"\"\"\n",
    "        :type root: TreeNode\n",
    "        :rtype: int\n",
    "        \"\"\"\n",
    "        if not root:\n",
    "            return 0\n",
    "        stack = []\n",
    "        result = []\n",
    "        stack.append((root, str(root.val)))\n",
    "        while stack:\n",
    "            curnode, curval = stack.pop()\n",
    "            if not curnode.left and not curnode.right:\n",
    "                result.append(curval)\n",
    "            if curnode.left:\n",
    "                stack.append((curnode.left, curval+str(curnode.left.val)))\n",
    "            if curnode.right:\n",
    "                stack.append((curnode.right, curval+str(curnode.right.val)))\n",
    "        result = map(int, result)\n",
    "        return sum(result)   "
   ]
  }
 ],
 "metadata": {
  "kernelspec": {
   "display_name": "Python 3",
   "language": "python",
   "name": "python3"
  },
  "language_info": {
   "codemirror_mode": {
    "name": "ipython",
    "version": 3
   },
   "file_extension": ".py",
   "mimetype": "text/x-python",
   "name": "python",
   "nbconvert_exporter": "python",
   "pygments_lexer": "ipython3",
   "version": "3.6.6"
  }
 },
 "nbformat": 4,
 "nbformat_minor": 2
}
