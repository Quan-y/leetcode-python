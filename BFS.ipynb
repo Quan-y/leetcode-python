{
 "cells": [
  {
   "cell_type": "markdown",
   "metadata": {},
   "source": [
    "### BFS"
   ]
  },
  {
   "cell_type": "code",
   "execution_count": 17,
   "metadata": {},
   "outputs": [],
   "source": [
    "from collections import deque\n",
    "def bfs(root):\n",
    "    \"\"\"\n",
    "    :type root: TreeNode\n",
    "    :rtype: List[int]\n",
    "    \"\"\"\n",
    "    if not root:\n",
    "        return []\n",
    "    queue = deque()\n",
    "    result = []\n",
    "    queue.append(root)\n",
    "    while queue:\n",
    "        size = len(queue) # the size if the num of node in current level\n",
    "        for i in range(size): \n",
    "            cur = queue.popleft()\n",
    "            result.append(cur.val)\n",
    "            if cur.left:\n",
    "                queue.append(cur.left)\n",
    "            if cur.right:\n",
    "                queue.append(cur.right)\n",
    "    return result"
   ]
  },
  {
   "cell_type": "code",
   "execution_count": 18,
   "metadata": {},
   "outputs": [],
   "source": [
    "# Definition for a binary tree node.\n",
    "class TreeNode(object):\n",
    "    def __init__(self, x):\n",
    "        self.val = x\n",
    "        self.left = None\n",
    "        self.right = None"
   ]
  },
  {
   "cell_type": "markdown",
   "metadata": {},
   "source": [
    "    3\n",
    "   2 1\n",
    " 1 3 2 4"
   ]
  },
  {
   "cell_type": "code",
   "execution_count": 21,
   "metadata": {},
   "outputs": [],
   "source": [
    "root = TreeNode(3)\n",
    "root.left = TreeNode(2)\n",
    "root.right = TreeNode(1)\n",
    "root.left.left = TreeNode(1)\n",
    "root.left.right = TreeNode(3)\n",
    "root.right.left = TreeNode(2)\n",
    "root.right.right = TreeNode(4)"
   ]
  },
  {
   "cell_type": "code",
   "execution_count": 22,
   "metadata": {},
   "outputs": [
    {
     "data": {
      "text/plain": [
       "[3, 2, 1, 1, 3, 2, 4]"
      ]
     },
     "execution_count": 22,
     "metadata": {},
     "output_type": "execute_result"
    }
   ],
   "source": [
    "bfs(root)"
   ]
  },
  {
   "cell_type": "markdown",
   "metadata": {},
   "source": [
    "### 1. Binary Tree Right Side View (199)"
   ]
  },
  {
   "cell_type": "code",
   "execution_count": 27,
   "metadata": {},
   "outputs": [],
   "source": [
    "from collections import deque\n",
    "class Solution(object):\n",
    "    def rightSideView(self, root):\n",
    "        \"\"\"\n",
    "        :type root: TreeNode\n",
    "        :rtype: List[int]\n",
    "        \"\"\"\n",
    "        if not root:\n",
    "            return []\n",
    "        result = []\n",
    "        queue = deque([root])\n",
    "        while queue:\n",
    "            for i in range(len(queue)):\n",
    "                cur = queue.popleft()\n",
    "                \n",
    "                if cur.left != None:\n",
    "                    queue.append(cur.left)\n",
    "                if cur.right != None:\n",
    "                    queue.append(cur.right)\n",
    "            result.append(cur.val)\n",
    "        return result"
   ]
  },
  {
   "cell_type": "code",
   "execution_count": 28,
   "metadata": {},
   "outputs": [
    {
     "data": {
      "text/plain": [
       "[3, 1, 4]"
      ]
     },
     "execution_count": 28,
     "metadata": {},
     "output_type": "execute_result"
    }
   ],
   "source": [
    "Test = Solution()\n",
    "Test.rightSideView(root)"
   ]
  },
  {
   "cell_type": "markdown",
   "metadata": {},
   "source": [
    "### 2. Maximum Depth of N-ary Tree (559)"
   ]
  },
  {
   "cell_type": "code",
   "execution_count": 1,
   "metadata": {},
   "outputs": [],
   "source": [
    "\"\"\"\n",
    "# Definition for a Node.\n",
    "class Node(object):\n",
    "    def __init__(self, val, children):\n",
    "        self.val = val\n",
    "        self.children = children\n",
    "\"\"\"\n",
    "from collections import deque\n",
    "class Solution(object):\n",
    "    def levelOrder(self, root):\n",
    "        \"\"\"\n",
    "        :type root: Node\n",
    "        :rtype: int\n",
    "        \"\"\"\n",
    "        if not root:\n",
    "            return []\n",
    "        result = []\n",
    "        queue = deque([root])\n",
    "        while queue:\n",
    "            layerResult = []\n",
    "            for i in range(len(queue)):\n",
    "                cur = queue.popleft()\n",
    "                layerResult.append(cur.val)\n",
    "                for j in cur.children:\n",
    "                    if j:\n",
    "                        queue.append(j)\n",
    "            result.append(layerResult)\n",
    "        return result"
   ]
  },
  {
   "cell_type": "markdown",
   "metadata": {},
   "source": [
    "### 3. Maximum Depth of N-ary Tree (559)"
   ]
  },
  {
   "cell_type": "code",
   "execution_count": 2,
   "metadata": {},
   "outputs": [],
   "source": [
    "\"\"\"\n",
    "# Definition for a Node.\n",
    "class Node(object):\n",
    "    def __init__(self, val, children):\n",
    "        self.val = val\n",
    "        self.children = children\n",
    "\"\"\"\n",
    "from collections import deque\n",
    "class Solution(object):\n",
    "    def maxDepth(self, root):\n",
    "        \"\"\"\n",
    "        :type root: Node\n",
    "        :rtype: int\n",
    "        \"\"\"\n",
    "        if root is None:\n",
    "            return 0\n",
    "        layercount = 0\n",
    "        queue = deque([root])\n",
    "        while queue:\n",
    "            layercount += 1\n",
    "            for i in range(len(queue)):\n",
    "                cur = queue.popleft()\n",
    "                for j in cur.children:\n",
    "                    if j:\n",
    "                        queue.append(j)\n",
    "        return layercount"
   ]
  },
  {
   "cell_type": "markdown",
   "metadata": {},
   "source": [
    "### 4. Find Bottom Left Tree Value (513)"
   ]
  },
  {
   "cell_type": "code",
   "execution_count": 4,
   "metadata": {},
   "outputs": [],
   "source": [
    "# Definition for a binary tree node.\n",
    "# class TreeNode(object):\n",
    "#     def __init__(self, x):\n",
    "#         self.val = x\n",
    "#         self.left = None\n",
    "#         self.right = None\n",
    "from collections import deque\n",
    "class Solution(object):\n",
    "    def findBottomLeftValue(self, root):\n",
    "        \"\"\"\n",
    "        :type root: TreeNode\n",
    "        :rtype: int\n",
    "        \"\"\"\n",
    "        if root is None:\n",
    "            return None\n",
    "        queue = deque([root])\n",
    "        while queue:\n",
    "            layer = []\n",
    "            for i in range(len(queue)):\n",
    "                cur = queue.popleft()\n",
    "                layer.append(cur.val)\n",
    "                if cur.left:\n",
    "                    queue.append(cur.left)\n",
    "                if cur.right:\n",
    "                    queue.append(cur.right)\n",
    "        return layer[0]"
   ]
  },
  {
   "cell_type": "markdown",
   "metadata": {},
   "source": [
    "### 5. Employee Importance (690)"
   ]
  },
  {
   "cell_type": "code",
   "execution_count": 6,
   "metadata": {},
   "outputs": [],
   "source": [
    "\"\"\"\n",
    "# Employee info\n",
    "class Employee(object):\n",
    "    def __init__(self, id, importance, subordinates):\n",
    "        # It's the unique id of each node.\n",
    "        # unique id of this employee\n",
    "        self.id = id\n",
    "        # the importance value of this employee\n",
    "        self.importance = importance\n",
    "        # the id of direct subordinates\n",
    "        self.subordinates = subordinates\n",
    "\"\"\"\n",
    "from collections import deque\n",
    "class Solution(object):\n",
    "    def getImportance(self, employees, id):\n",
    "        \"\"\"\n",
    "        :type employees: Employee\n",
    "        :type id: int\n",
    "        :rtype: int\n",
    "        \"\"\"\n",
    "        if employees is None:\n",
    "            return 0\n",
    "        # create a dict for employees\n",
    "        emplyDict = {}\n",
    "        for each in employees:\n",
    "            emplyDict[each.id] = each\n",
    "        # queue\n",
    "        queue = deque([emplyDict[id]])\n",
    "        totalImportant = 0\n",
    "        while queue:\n",
    "            for each in range(len(queue)):\n",
    "                curEmployee = queue.popleft()\n",
    "                totalImportant += curEmployee.importance\n",
    "                for eachsub in curEmployee.subordinates:\n",
    "                    queue.append(emplyDict[eachsub])\n",
    "        return totalImportant\n",
    "    "
   ]
  },
  {
   "cell_type": "markdown",
   "metadata": {},
   "source": [
    "### 6. Find Largest Value in Each Tree Row (515)"
   ]
  },
  {
   "cell_type": "code",
   "execution_count": 8,
   "metadata": {},
   "outputs": [],
   "source": [
    "# Definition for a binary tree node.\n",
    "# class TreeNode(object):\n",
    "#     def __init__(self, x):\n",
    "#         self.val = x\n",
    "#         self.left = None\n",
    "#         self.right = None\n",
    "from collections import deque\n",
    "class Solution(object):\n",
    "    def largestValues(self, root):\n",
    "        \"\"\"\n",
    "        :type root: TreeNode\n",
    "        :rtype: List[int]\n",
    "        \"\"\"\n",
    "        if root is None:\n",
    "            return []\n",
    "        queue = deque([root])\n",
    "        result = []\n",
    "        while queue:\n",
    "            each_layer = []\n",
    "            for each in range(len(queue)):\n",
    "                curNode = queue.popleft()\n",
    "                each_layer.append(curNode.val)\n",
    "                if curNode.left:\n",
    "                    queue.append(curNode.left)\n",
    "                if curNode.right:\n",
    "                    queue.append(curNode.right)\n",
    "            result.append(max(each_layer))\n",
    "        return result           "
   ]
  },
  {
   "cell_type": "markdown",
   "metadata": {},
   "source": [
    "### 7. Minesweeper (529)"
   ]
  },
  {
   "cell_type": "code",
   "execution_count": 12,
   "metadata": {},
   "outputs": [],
   "source": [
    "from collections import deque\n",
    "class Solution(object):\n",
    "    def updateBoard(self, board, click):\n",
    "        \"\"\"\n",
    "        :type board: List[List[str]]\n",
    "        :type click: List[int]\n",
    "        :rtype: List[List[str]]\n",
    "        \"\"\"\n",
    "        # boundary\n",
    "        i, j = click\n",
    "        if board[i][j] == \"M\":\n",
    "            board[i][j] = \"X\"\n",
    "            return board\n",
    "        # initialization\n",
    "        numbers = \"B123456789\"\n",
    "        directions = [(-1, 0), (1, 0), (0, -1), (0, 1), (1, 1), (-1, -1), (1, -1), (-1, 1)]\n",
    "        queue = deque([click])\n",
    "        while queue:\n",
    "            i, j = queue.popleft()\n",
    "            if board[i][j] == \"B\":\n",
    "                continue\n",
    "            mineCnt = 0\n",
    "            nbrs = []\n",
    "            for di, dj in directions:\n",
    "                ni, nj = i + di, j + dj\n",
    "                if 0 <= ni < len(board) and 0 <= nj < len(board[0]):\n",
    "                    if board[ni][nj] == \"M\":\n",
    "                        mineCnt += 1\n",
    "                    elif board[ni][nj] == \"E\":\n",
    "                        nbrs.append((ni, nj))\n",
    "            if mineCnt == 0:\n",
    "                queue.extend(nbrs)\n",
    "            board[i][j] = numbers[mineCnt]\n",
    "        return board"
   ]
  },
  {
   "cell_type": "markdown",
   "metadata": {},
   "source": [
    "### 8. Open the Lock (752)"
   ]
  },
  {
   "cell_type": "code",
   "execution_count": 4,
   "metadata": {},
   "outputs": [],
   "source": [
    "from collections import deque\n",
    "class Solution(object):\n",
    "    def openLock(self, deadends, target):\n",
    "        \"\"\"\n",
    "        :type deadends: List[str]\n",
    "        :type target: str\n",
    "        :rtype: int\n",
    "        \"\"\"\n",
    "        if \"0000\" in deadends:\n",
    "            return -1\n",
    "        queue = deque([(\"0000\", 0)])\n",
    "        seen = set(deadends + [\"0000\"])\n",
    "        while queue:\n",
    "            state, level = queue.popleft()\n",
    "            # for each placeholder\n",
    "            for i in range(4):\n",
    "                # two direction\n",
    "                for delta in [1, -1]:\n",
    "                    # change ith number\n",
    "                    newNumber = str((int(state[i]) + delta)%10)\n",
    "                    newState = state[:i] + newNumber + state[i+1:]\n",
    "                    if newState == target:\n",
    "                        return level + 1\n",
    "                    if newState not in seen:\n",
    "                        seen.add(newState)\n",
    "                        queue.append((newState, level + 1))\n",
    "                print(newState)\n",
    "            print(level)\n",
    "        return -1"
   ]
  }
 ],
 "metadata": {
  "kernelspec": {
   "display_name": "Python 3",
   "language": "python",
   "name": "python3"
  },
  "language_info": {
   "codemirror_mode": {
    "name": "ipython",
    "version": 3
   },
   "file_extension": ".py",
   "mimetype": "text/x-python",
   "name": "python",
   "nbconvert_exporter": "python",
   "pygments_lexer": "ipython3",
   "version": "3.6.7"
  }
 },
 "nbformat": 4,
 "nbformat_minor": 2
}
