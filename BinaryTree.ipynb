{
 "cells": [
  {
   "cell_type": "markdown",
   "metadata": {},
   "source": [
    "### Binary Tree"
   ]
  },
  {
   "cell_type": "markdown",
   "metadata": {},
   "source": [
    "1. Balanced Binary Tree\n",
    "2. Lowest Common Ancestor\n",
    "3. DFS in Binary Tree (preorder, inorder, postorder)  \n",
    "4. Binary Tree Maximum Path Sum II\n",
    "5. Binary Tree Maximum Path Sum\n",
    "6. Binary Search Tree\n",
    "7. Validate Binary Search Tree\n",
    "8. Binary Search Tree Iterator\n",
    "9. In-order Successor in Binary Search Tree\n",
    "10. Search Range in Binary Search Tree\n",
    "11. Insert Node in a Binary Search Tree\n",
    "12. Remove Node in a Binary Search Tree\n",
    "13. Binary Tree Level Order Traversal II\n",
    "14. Binary Tree Zigzag Level Order Traversal"
   ]
  },
  {
   "cell_type": "markdown",
   "metadata": {},
   "source": [
    "* 有链表：不用二分法\n",
    "* 数组的索引是O(1), 链表索引是O(n), 常用数据结构操作复杂度：https://blog.csdn.net/MOMONGA/article/details/51578602\n",
    "* n为节点的二叉树的高度是log(n)\n",
    "* 复杂度\n",
    "$$T(n) = T(n/2) + O(1) = O(log(n))$$\n",
    "$$T(n) = T(n/2) + O(n) = O(n)$$\n",
    "$$T(n) = 2T(n/2) + O(1) = O(n)$$\n",
    "$$T(n) = 2T(n/2) + O(1) = O(nlog(n))$$\n",
    "* 三种遍历方法 (有非递归写法)  \n",
    "preorder: 根左右  \n",
    "inorder: 左根右  \n",
    "postorder: 左右根  \n",
    "* 递归三要素  \n",
    "(1) 递归的定义：输入什么参数，返回什么值  \n",
    "(2) 拆分大问题为小问题  \n",
    "(3) 递归出口  \n",
    "* 分治算法 (Divide & Conquer)\n",
    "* 遍历法 (Traverse)\n",
    "* 二叉树90%用分治\n",
    "* BST充要条件：中序遍历严格递增\n",
    "* BST是O(h)的时间查找，删除和插入\n",
    "* BST定义：左子树都比根节点小，右子树都比根节点大\n",
    "* 二叉树BFS宽度优先搜索，使用一个队列Queen的宽度优先搜索算法\n",
    "* 如何实现分层遍历"
   ]
  },
  {
   "cell_type": "code",
   "execution_count": 1,
   "metadata": {},
   "outputs": [],
   "source": [
    "class TreeNode(object):\n",
    "    def __init__(self, x):\n",
    "        self.val = x\n",
    "        self.left = None\n",
    "        self.right = None"
   ]
  },
  {
   "cell_type": "markdown",
   "metadata": {},
   "source": [
    "### 1. pre-order"
   ]
  },
  {
   "cell_type": "code",
   "execution_count": 54,
   "metadata": {},
   "outputs": [],
   "source": [
    "class Solution:\n",
    "    \"\"\"\n",
    "    @param root: A Tree\n",
    "    @return: Preorder in ArrayList which contains node values.\n",
    "    \"\"\"\n",
    "    def preorderTraversal(self, root):\n",
    "        # write your code here\n",
    "        self.res = []\n",
    "        if root is None:\n",
    "            return self.res\n",
    "        self.helper(root)\n",
    "        return self.res\n",
    "    \n",
    "    def helper(self, root):\n",
    "        if root is None:\n",
    "            return \n",
    "        self.res.append(root.val)\n",
    "        self.helper(root.left)\n",
    "        self.helper(root.right)"
   ]
  },
  {
   "cell_type": "markdown",
   "metadata": {},
   "source": [
    "  5  \n",
    "1   6"
   ]
  },
  {
   "cell_type": "code",
   "execution_count": 55,
   "metadata": {},
   "outputs": [
    {
     "data": {
      "text/plain": [
       "[5, 1, 6]"
      ]
     },
     "execution_count": 55,
     "metadata": {},
     "output_type": "execute_result"
    }
   ],
   "source": [
    "TestTree = TreeNode(5)\n",
    "TestTree.right = TreeNode(6)\n",
    "TestTree.left = TreeNode(1)\n",
    "Test = Solution()\n",
    "Test.preorderTraversal(TestTree)"
   ]
  },
  {
   "cell_type": "markdown",
   "metadata": {},
   "source": [
    "### 2. in-order"
   ]
  },
  {
   "cell_type": "code",
   "execution_count": 56,
   "metadata": {},
   "outputs": [],
   "source": [
    "class Solution:\n",
    "    \"\"\"\n",
    "    @param root: A Tree\n",
    "    @return: Preorder in ArrayList which contains node values.\n",
    "    \"\"\"\n",
    "    def preorderTraversal(self, root):\n",
    "        # write your code here\n",
    "        self.res = []\n",
    "        if root is None:\n",
    "            return self.res\n",
    "        self.helper(root)\n",
    "        return self.res\n",
    "    \n",
    "    def helper(self, root):\n",
    "        if root is None:\n",
    "            return \n",
    "        self.helper(root.left)\n",
    "        self.res.append(root.val)\n",
    "        self.helper(root.right)"
   ]
  },
  {
   "cell_type": "code",
   "execution_count": 58,
   "metadata": {},
   "outputs": [
    {
     "data": {
      "text/plain": [
       "[1, 5, 6]"
      ]
     },
     "execution_count": 58,
     "metadata": {},
     "output_type": "execute_result"
    }
   ],
   "source": [
    "TestTree = TreeNode(5)\n",
    "TestTree.right = TreeNode(6)\n",
    "TestTree.left = TreeNode(1)\n",
    "Test = Solution()\n",
    "Test.preorderTraversal(TestTree)"
   ]
  },
  {
   "cell_type": "markdown",
   "metadata": {},
   "source": [
    "### 3. post-order"
   ]
  },
  {
   "cell_type": "code",
   "execution_count": 60,
   "metadata": {},
   "outputs": [],
   "source": [
    "class Solution:\n",
    "    \"\"\"\n",
    "    @param root: A Tree\n",
    "    @return: Preorder in ArrayList which contains node values.\n",
    "    \"\"\"\n",
    "    def preorderTraversal(self, root):\n",
    "        # write your code here\n",
    "        self.res = []\n",
    "        if root is None:\n",
    "            return self.res\n",
    "        self.helper(root)\n",
    "        return self.res\n",
    "    \n",
    "    def helper(self, root):\n",
    "        if root is None:\n",
    "            return \n",
    "        self.helper(root.left)\n",
    "        self.helper(root.right)\n",
    "        self.res.append(root.val)"
   ]
  },
  {
   "cell_type": "code",
   "execution_count": 61,
   "metadata": {},
   "outputs": [
    {
     "data": {
      "text/plain": [
       "[1, 6, 5]"
      ]
     },
     "execution_count": 61,
     "metadata": {},
     "output_type": "execute_result"
    }
   ],
   "source": [
    "TestTree = TreeNode(5)\n",
    "TestTree.right = TreeNode(6)\n",
    "TestTree.left = TreeNode(1)\n",
    "Test = Solution()\n",
    "Test.preorderTraversal(TestTree)"
   ]
  },
  {
   "cell_type": "markdown",
   "metadata": {},
   "source": [
    "### 4. Binary Tree Level Order Traversal"
   ]
  },
  {
   "cell_type": "code",
   "execution_count": 64,
   "metadata": {},
   "outputs": [],
   "source": [
    "from collections import deque"
   ]
  },
  {
   "cell_type": "code",
   "execution_count": 73,
   "metadata": {},
   "outputs": [],
   "source": [
    "class Solution(object):\n",
    "    def levelOrder(self, root):\n",
    "        if root is None:\n",
    "            return []\n",
    "        result = []\n",
    "        queue = deque([root])\n",
    "        \n",
    "        while queue:\n",
    "            level = []\n",
    "            for i in range(len(queue)):\n",
    "                node = queue.popleft()\n",
    "                level.append(node.val)\n",
    "                if node.left != None:\n",
    "                    queue.append(node.left)\n",
    "                if node.right != None:\n",
    "                    queue.append(node.right)\n",
    "                result.append(level)\n",
    "        return result"
   ]
  },
  {
   "cell_type": "markdown",
   "metadata": {},
   "source": [
    "### 5. Binary Tree Level Order Traversal II"
   ]
  },
  {
   "cell_type": "code",
   "execution_count": 74,
   "metadata": {},
   "outputs": [],
   "source": [
    "from collections import deque\n",
    "class Solution(object):\n",
    "    def levelOrderBottom(self, root):\n",
    "        \"\"\"\n",
    "        :type root: TreeNode\n",
    "        :rtype: List[List[int]]\n",
    "        \"\"\"\n",
    "        if root is None:\n",
    "            return []\n",
    "        queue = deque([root])\n",
    "        result = []\n",
    "        while queue:\n",
    "            level = []\n",
    "            for i in range(len(queue)):\n",
    "                node = queue.popleft()\n",
    "                level.append(node.val)\n",
    "                if node.left != None:\n",
    "                    queue.append(node.left)\n",
    "                if node.right != None:\n",
    "                    queue.append(node.right)\n",
    "            result.append(level)\n",
    "        return result[::-1]"
   ]
  },
  {
   "cell_type": "markdown",
   "metadata": {},
   "source": [
    "### 6. Binary Tree Zigzag Level Order Traversal (103)"
   ]
  },
  {
   "cell_type": "code",
   "execution_count": 2,
   "metadata": {},
   "outputs": [],
   "source": [
    "from collections import deque\n",
    "class Solution(object):\n",
    "    def zigzagLevelOrder(self, root):\n",
    "        \"\"\"\n",
    "        :type root: TreeNode\n",
    "        :rtype: List[List[int]]\n",
    "        \"\"\"\n",
    "        if root is None:\n",
    "            return []\n",
    "        queue = deque([root])\n",
    "        result = []\n",
    "        count = 0\n",
    "        while queue:\n",
    "            level = []\n",
    "            for i in range(len(queue)):\n",
    "                node = queue.popleft()\n",
    "                level.append(node.val)\n",
    "                if node.left != None:\n",
    "                    queue.append(node.left)\n",
    "                if node.right != None:\n",
    "                    queue.append(node.right)\n",
    "            count += 1\n",
    "            if count %2 != 0:\n",
    "                result.append(level)\n",
    "            else:\n",
    "                result.append(level[::-1])\n",
    "            \n",
    "        return result"
   ]
  },
  {
   "cell_type": "markdown",
   "metadata": {},
   "source": [
    "### 7. Max Depth of Binary Tree (104)"
   ]
  },
  {
   "cell_type": "code",
   "execution_count": 3,
   "metadata": {},
   "outputs": [],
   "source": [
    "class Solution(object):\n",
    "    def maxDepth(self, root):\n",
    "        \"\"\"\n",
    "        :type root: TreeNode\n",
    "        :rtype: int\n",
    "        \"\"\"\n",
    "        if root is None:\n",
    "            return 0\n",
    "        return 1 + max(self.maxDepth(root.left), self.maxDepth(root.right))"
   ]
  },
  {
   "cell_type": "markdown",
   "metadata": {},
   "source": [
    "### 8. Minimum Depth of Binary Tree (111)"
   ]
  },
  {
   "cell_type": "code",
   "execution_count": 4,
   "metadata": {},
   "outputs": [],
   "source": [
    "class Solution(object):\n",
    "    def minDepth(self, root):\n",
    "        \"\"\"\n",
    "        :type root: TreeNode\n",
    "        :rtype: int\n",
    "        \"\"\"\n",
    "        if root is None:\n",
    "            return 0\n",
    "        left = self.minDepth(root.left)\n",
    "        right = self.minDepth(root.right)\n",
    "        if left == 0 or right == 0:\n",
    "            return 1 + left + right\n",
    "        else:\n",
    "            return 1 + min(left, right)"
   ]
  },
  {
   "cell_type": "markdown",
   "metadata": {},
   "source": [
    "### 9. Balanced Binary Tree (110)"
   ]
  },
  {
   "cell_type": "code",
   "execution_count": 5,
   "metadata": {},
   "outputs": [],
   "source": [
    "# Definition for a binary tree node.\n",
    "# class TreeNode(object):\n",
    "#     def __init__(self, x):\n",
    "#         self.val = x\n",
    "#         self.left = None\n",
    "#         self.right = None\n",
    "\n",
    "class Solution(object):\n",
    "    def isBalanced(self, root):\n",
    "        \"\"\"\n",
    "        :type root: TreeNode\n",
    "        :rtype: bool\n",
    "        \"\"\"\n",
    "        if root is None:\n",
    "            return True\n",
    "        dpleft = self.maxDepth(root.left)\n",
    "        dpright = self.maxDepth(root.right)\n",
    "        if abs(dpleft - dpright) > 1:\n",
    "            return False\n",
    "        else:\n",
    "            return self.isBalanced(root.left) and self.isBalanced(root.right)\n",
    "    \n",
    "    def maxDepth(self, side):\n",
    "        if side is None:\n",
    "            return 0\n",
    "        return 1+max(self.maxDepth(side.left), self.maxDepth(side.right))"
   ]
  },
  {
   "cell_type": "markdown",
   "metadata": {},
   "source": [
    "### 10. Symmetric Tree (101)"
   ]
  },
  {
   "cell_type": "code",
   "execution_count": 6,
   "metadata": {},
   "outputs": [],
   "source": [
    "# Definition for a binary tree node.\n",
    "# class TreeNode(object):\n",
    "#     def __init__(self, x):\n",
    "#         self.val = x\n",
    "#         self.left = None\n",
    "#         self.right = None\n",
    "\n",
    "class Solution(object):\n",
    "    def isSymmetric(self, root):\n",
    "        \"\"\"\n",
    "        :type root: TreeNode\n",
    "        :rtype: bool\n",
    "        \"\"\"\n",
    "        if root is None:\n",
    "            return True\n",
    "        return self.divideConquer(root.left, root.right)\n",
    "    def divideConquer(self, left, right):\n",
    "        if left is None and right is None:\n",
    "            return True\n",
    "        elif left != None and right != None and left.val == right.val:\n",
    "            return self.divideConquer(left.left, right.right) and self.divideConquer(left.right, right.left)\n",
    "        else:\n",
    "            return False\n",
    "        "
   ]
  },
  {
   "cell_type": "markdown",
   "metadata": {},
   "source": [
    "### 11. Validate Binary Search Tree (98)"
   ]
  },
  {
   "cell_type": "code",
   "execution_count": 7,
   "metadata": {},
   "outputs": [],
   "source": [
    "class Solution:\n",
    "    def isValidBST(self, root):\n",
    "        return self.isValidBSTHelper(root, float('-inf'), float('inf'))\n",
    "        \n",
    "    def isValidBSTHelper(self, root, min_, max_):\n",
    "        if not root:\n",
    "            return True\n",
    "        \n",
    "        if min_ < root.val < max_:\n",
    "            return self.isValidBSTHelper(root.left, min_, root.val) and self.isValidBSTHelper(root.right, root.val, max_)\n",
    "        else:\n",
    "            return False"
   ]
  }
 ],
 "metadata": {
  "kernelspec": {
   "display_name": "Python 3",
   "language": "python",
   "name": "python3"
  },
  "language_info": {
   "codemirror_mode": {
    "name": "ipython",
    "version": 3
   },
   "file_extension": ".py",
   "mimetype": "text/x-python",
   "name": "python",
   "nbconvert_exporter": "python",
   "pygments_lexer": "ipython3",
   "version": "3.6.6"
  }
 },
 "nbformat": 4,
 "nbformat_minor": 2
}
