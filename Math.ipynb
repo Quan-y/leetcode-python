{
 "cells": [
  {
   "cell_type": "markdown",
   "metadata": {},
   "source": [
    "### 第一类：实现运算符  \n",
    "1. $<< 1$ = $\\times$2  \n",
    "2. $>> 1$ = $\\div $2  \n",
    "3. a^b = sum(a, b)\n",
    "4. a&b"
   ]
  },
  {
   "cell_type": "markdown",
   "metadata": {},
   "source": [
    "### 1. Divide Two Integers (29)"
   ]
  },
  {
   "cell_type": "code",
   "execution_count": 124,
   "metadata": {},
   "outputs": [],
   "source": [
    "class Solution:\n",
    "    def divide(self, dividend, divisor):\n",
    "        # sign\n",
    "        sign = 1\n",
    "        if (dividend < 0) ^ (divisor < 0):\n",
    "            sign = -1\n",
    "        # boundary\n",
    "        if dividend == 0:\n",
    "            return 0\n",
    "        if divisor == 0:\n",
    "            return\n",
    "        dividend = abs(dividend)\n",
    "        divisor = abs(divisor)\n",
    "        res = 0\n",
    "        # recursion\n",
    "        while dividend >= divisor:\n",
    "            i = 0\n",
    "            a = divisor\n",
    "            while a <= dividend:\n",
    "                a = a<<1\n",
    "                i += 1\n",
    "            res += (1 << (i-1))\n",
    "            dividend -= (a >> 1)\n",
    "        # result\n",
    "        res = sign*res\n",
    "        if res > 2147483647:\n",
    "            return 2147483647\n",
    "        else:\n",
    "            return res"
   ]
  },
  {
   "cell_type": "code",
   "execution_count": 125,
   "metadata": {},
   "outputs": [
    {
     "data": {
      "text/plain": [
       "4"
      ]
     },
     "execution_count": 125,
     "metadata": {},
     "output_type": "execute_result"
    }
   ],
   "source": [
    "Test = Solution()\n",
    "Test.divide(4, 1)"
   ]
  },
  {
   "cell_type": "markdown",
   "metadata": {},
   "source": [
    "### 2. Reverse Integer (7)"
   ]
  },
  {
   "cell_type": "code",
   "execution_count": 154,
   "metadata": {},
   "outputs": [],
   "source": [
    "class Solution:\n",
    "    def reverse(self, x):\n",
    "        if x >= 2**31 - 1 or x <= -2**31:\n",
    "            return 0\n",
    "        sign = 1\n",
    "        if x < 0:\n",
    "            sign = -1\n",
    "        x = abs(x)\n",
    "\n",
    "        result = 0\n",
    "        while x >= 10:\n",
    "            curNum = x%10\n",
    "            result = result*10 + curNum\n",
    "            x = x//10\n",
    "        result = sign*(result*10 + x)\n",
    "        if result >= 2**31 - 1 or result <= -2**31:\n",
    "            return 0\n",
    "        return result"
   ]
  },
  {
   "cell_type": "code",
   "execution_count": 153,
   "metadata": {},
   "outputs": [
    {
     "data": {
      "text/plain": [
       "1"
      ]
     },
     "execution_count": 153,
     "metadata": {},
     "output_type": "execute_result"
    }
   ],
   "source": [
    "Test = Solution()\n",
    "Test.reverse(10)"
   ]
  },
  {
   "cell_type": "markdown",
   "metadata": {},
   "source": [
    "### 3. Plus One (66)"
   ]
  },
  {
   "cell_type": "code",
   "execution_count": 157,
   "metadata": {},
   "outputs": [
    {
     "data": {
      "text/plain": [
       "[2, 1, 0]"
      ]
     },
     "execution_count": 157,
     "metadata": {},
     "output_type": "execute_result"
    }
   ],
   "source": [
    "class Solution(object):\n",
    "    def plusOne(self, digits):\n",
    "        \"\"\"\n",
    "        :type digits: List[int]\n",
    "        :rtype: List[int]\n",
    "        \"\"\"\n",
    "        res = digits\n",
    "        for i in reversed(range(len(digits))):\n",
    "            if digits[i] == 9:\n",
    "                res[i] = 0\n",
    "                if i == 0:\n",
    "                    res = [1] + res\n",
    "                    return res\n",
    "            else:\n",
    "                res[i] += 1\n",
    "                return res\n",
    "        return res"
   ]
  },
  {
   "cell_type": "markdown",
   "metadata": {},
   "source": [
    "### 4. DI String Match (942)"
   ]
  },
  {
   "cell_type": "code",
   "execution_count": 10,
   "metadata": {},
   "outputs": [],
   "source": [
    "class Solution(object):\n",
    "    def diStringMatch(self, S):\n",
    "        \"\"\"\n",
    "        :type S: str\n",
    "        :rtype: List[int]\n",
    "        \"\"\"\n",
    "        if S == \"\":\n",
    "            return []\n",
    "        else:\n",
    "            res = []\n",
    "        maximum = len(S)\n",
    "        minimum = 0\n",
    "        for i, s in enumerate(S):\n",
    "            if s == \"I\":\n",
    "                res.append(minimum)\n",
    "                minimum += 1\n",
    "            elif s == \"D\":\n",
    "                res.append(maximum)\n",
    "                maximum -= 1\n",
    "        res.append(minimum)\n",
    "        return res"
   ]
  },
  {
   "cell_type": "code",
   "execution_count": 11,
   "metadata": {},
   "outputs": [
    {
     "data": {
      "text/plain": [
       "[0, 4, 1, 3, 2]"
      ]
     },
     "execution_count": 11,
     "metadata": {},
     "output_type": "execute_result"
    }
   ],
   "source": [
    "Test = Solution()\n",
    "Test.diStringMatch(\"IDID\")"
   ]
  },
  {
   "cell_type": "markdown",
   "metadata": {},
   "source": [
    "### 5. Self Dividing Numbers (728)"
   ]
  },
  {
   "cell_type": "code",
   "execution_count": 22,
   "metadata": {},
   "outputs": [],
   "source": [
    "class Solution(object):\n",
    "    def selfDividingNumbers(self, left, right):\n",
    "        \"\"\"\n",
    "        :type left: int\n",
    "        :type right: int\n",
    "        :rtype: List[int]\n",
    "        \"\"\"\n",
    "        res = []\n",
    "        for i in range(left, right+1):\n",
    "            if i%10 == 0:\n",
    "                continue\n",
    "            flag = 0\n",
    "            digits = self.getDigits(i)\n",
    "            if digits == False:\n",
    "                continue\n",
    "            for j in digits:\n",
    "                if i%j != 0:\n",
    "                    flag = 1\n",
    "            if flag == 0:\n",
    "                res.append(i)\n",
    "            else:\n",
    "                continue\n",
    "        return res\n",
    "    \n",
    "    def getDigits(self, num):\n",
    "        res = [num%10]\n",
    "        while num > 10:\n",
    "            num //= 10\n",
    "            dig = num%10\n",
    "            if dig != 0:\n",
    "                res.append(dig)\n",
    "            else:\n",
    "                return False\n",
    "        return res"
   ]
  },
  {
   "cell_type": "code",
   "execution_count": 23,
   "metadata": {},
   "outputs": [
    {
     "data": {
      "text/plain": [
       "[8, 16]"
      ]
     },
     "execution_count": 23,
     "metadata": {},
     "output_type": "execute_result"
    }
   ],
   "source": [
    "Test = Solution()\n",
    "Test.selfDividingNumbers(1,22)"
   ]
  },
  {
   "cell_type": "markdown",
   "metadata": {},
   "source": [
    "### 6. K Closest Points to Origin (973)"
   ]
  },
  {
   "cell_type": "code",
   "execution_count": 31,
   "metadata": {},
   "outputs": [],
   "source": [
    "class Solution(object):\n",
    "    def kClosest(self, points, K):\n",
    "        \"\"\"\n",
    "        :type points: List[List[int]]\n",
    "        :type K: int\n",
    "        :rtype: List[List[int]]\n",
    "        \"\"\"\n",
    "        res = []\n",
    "        dist = dict()\n",
    "        for i in points:\n",
    "            dist[self.distance(i)] = i\n",
    "        index = sorted(dist)[:K]\n",
    "        for i in index:\n",
    "            res.append(dist[i])\n",
    "        return res\n",
    "            \n",
    "    def distance(self, point):\n",
    "        return point[0]**2 + point[1]**2"
   ]
  },
  {
   "cell_type": "markdown",
   "metadata": {},
   "source": [
    "### 7. Projection Area of 3D Shapes (883)"
   ]
  },
  {
   "cell_type": "code",
   "execution_count": 57,
   "metadata": {},
   "outputs": [],
   "source": [
    "class Solution(object):\n",
    "    def projectionArea(self, grid):\n",
    "        \"\"\"\n",
    "        :type grid: List[List[int]]\n",
    "        :rtype: int\n",
    "        \"\"\"\n",
    "        leftmax = []\n",
    "        for i in grid:\n",
    "            leftmax.append(max(i))\n",
    "        leftArea = sum(leftmax)\n",
    "        \n",
    "        rightmax = []\n",
    "        for i in zip(*grid):\n",
    "            rightmax.append(max(i))\n",
    "        rightArea = sum(rightmax)\n",
    "        \n",
    "        topArea = 0\n",
    "        for i in grid:\n",
    "            topArea += sum([j != 0 for j in i])\n",
    "        \n",
    "        return topArea + leftArea + rightArea"
   ]
  },
  {
   "cell_type": "code",
   "execution_count": null,
   "metadata": {},
   "outputs": [],
   "source": []
  }
 ],
 "metadata": {
  "kernelspec": {
   "display_name": "Python 3",
   "language": "python",
   "name": "python3"
  },
  "language_info": {
   "codemirror_mode": {
    "name": "ipython",
    "version": 3
   },
   "file_extension": ".py",
   "mimetype": "text/x-python",
   "name": "python",
   "nbconvert_exporter": "python",
   "pygments_lexer": "ipython3",
   "version": "3.6.6"
  }
 },
 "nbformat": 4,
 "nbformat_minor": 2
}
