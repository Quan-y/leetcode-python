{
 "cells": [
  {
   "cell_type": "markdown",
   "metadata": {},
   "source": [
    "## 排列组合模板\n",
    "1. subsets1 78 OK  \n",
    "2. **subsets2 90 OK**  \n",
    "3. permutation1 46 OK\n",
    "4. permutation2 47 OK\n",
    "5. unique permutations  \n",
    "5. strstr 28 OK  \n",
    "6. combinations  \n",
    "7. combination sum1\n",
    "8. combination sum2\n",
    "9. combination sum3\n",
    "10. letter combination of a Phone number  \n",
    "11. palindrome partitioning1\n",
    "12. Palindrome Permutation\n",
    "12. Palindrome Permutation2\n",
    "12. restore IP address  "
   ]
  },
  {
   "cell_type": "markdown",
   "metadata": {},
   "source": [
    "### 1. Subsets I (78)\n",
    "Given a set of distinct integers, nums, return all possible subsets (the power set).\n",
    "\n",
    "Note: The solution set must not contain duplicate subsets.\n",
    "\n",
    "Example:\n",
    "\n",
    "Input: nums = [1,2,3]\n",
    "Output:\n",
    "[\n",
    "  [3],\n",
    "  [1],\n",
    "  [2],\n",
    "  [1,2,3],\n",
    "  [1,3],\n",
    "  [2,3],\n",
    "  [1,2],\n",
    "  []\n",
    "]"
   ]
  },
  {
   "cell_type": "code",
   "execution_count": 8,
   "metadata": {},
   "outputs": [
    {
     "name": "stdout",
     "output_type": "stream",
     "text": [
      "1\n",
      "2\n",
      "3\n",
      "3\n",
      "2\n",
      "3\n",
      "3\n"
     ]
    },
    {
     "data": {
      "text/plain": [
       "[[], [1], [1, 2], [1, 2, 3], [1, 3], [2], [2, 3], [3]]"
      ]
     },
     "execution_count": 8,
     "metadata": {},
     "output_type": "execute_result"
    }
   ],
   "source": [
    "class Solution:\n",
    "    def subsets(self, nums):\n",
    "        # boundary condition\n",
    "        if not nums:\n",
    "            return [[]]\n",
    "        # sort\n",
    "        nums.sort()\n",
    "        # initialization\n",
    "        self.start = 0\n",
    "        self.resList = []\n",
    "        self.curList = []\n",
    "        self.backtracing(nums)\n",
    "        return self.resList\n",
    "    def backtracing(self, nums):\n",
    "        tmpList = list(self.curList)\n",
    "        self.resList.append(tmpList)\n",
    "        for i in range(self.start, len(nums)):\n",
    "            print(nums[i])\n",
    "            self.curList.append(nums[i])\n",
    "            self.start = i + 1\n",
    "            self.backtracing(nums)\n",
    "            self.curList.pop()\n",
    "Test = Solution()\n",
    "Test.subsets([1,2,3])"
   ]
  },
  {
   "cell_type": "code",
   "execution_count": 1,
   "metadata": {},
   "outputs": [
    {
     "data": {
      "text/plain": [
       "[[], [1], [1, 2], [2]]"
      ]
     },
     "execution_count": 1,
     "metadata": {},
     "output_type": "execute_result"
    }
   ],
   "source": [
    "# understand the solution for subset problem\n",
    "class Solution(object):\n",
    "    def subsets(self, nums):\n",
    "        \"\"\"\n",
    "        :type nums: List[int]\n",
    "        :rtype: List[List[int]]\n",
    "        \"\"\"\n",
    "        results = []\n",
    "        if not nums:\n",
    "            return [[]]\n",
    "        # Python sort: nlog(n)\n",
    "        nums.sort()\n",
    "        self.subsetsHelper(results, nums, 0, [])\n",
    "        return results\n",
    "\n",
    "    def subsetsHelper(self, results, nums, index, curList):\n",
    "        '''\n",
    "        results: final result\n",
    "        nums: array we want to find subsets\n",
    "        index: recursion\n",
    "        curList: each list we find\n",
    "        '''\n",
    "        tmpList = list(curList)\n",
    "        results.append(tmpList)\n",
    "        \n",
    "        for i in range(index, len(nums)):\n",
    "            curList.append(nums[i])\n",
    "            #dfs\n",
    "            self.subsetsHelper(results, nums, i + 1, curList)\n",
    "            #pop, dfs for next number\n",
    "            curList.pop() \n",
    "Test = Solution()\n",
    "Test.subsets([1,2])"
   ]
  },
  {
   "cell_type": "markdown",
   "metadata": {},
   "source": [
    "### 2. Subsets II (90)\n",
    "Given a collection of integers that might contain duplicates, nums, return all possible subsets (the power set).\n",
    "\n",
    "Note: The solution set must not contain duplicate subsets.\n",
    "\n",
    "Example:\n",
    "\n",
    "Input: [1,2,2]\n",
    "Output:\n",
    "[\n",
    "  [2],\n",
    "  [1],\n",
    "  [1,2,2],\n",
    "  [2,2],\n",
    "  [1,2],\n",
    "  []\n",
    "]\n",
    "\n",
    "<font color = 'red'>Don't know how to understand: if nums[i] == nums[i-1] and self.start != i</font>"
   ]
  },
  {
   "cell_type": "code",
   "execution_count": 23,
   "metadata": {},
   "outputs": [
    {
     "data": {
      "text/plain": [
       "[[],\n",
       " [1],\n",
       " [1, 2],\n",
       " [1, 2, 2],\n",
       " [1, 2, 2, 3],\n",
       " [1, 2, 3],\n",
       " [1, 3],\n",
       " [2],\n",
       " [2, 2],\n",
       " [2, 2, 3],\n",
       " [2, 3],\n",
       " [3]]"
      ]
     },
     "execution_count": 23,
     "metadata": {},
     "output_type": "execute_result"
    }
   ],
   "source": [
    "class Solution(object):\n",
    "    def subsets(self, nums):\n",
    "        if not nums:\n",
    "            return [[]]\n",
    "        nums.sort()\n",
    "        self.curList = []\n",
    "        self.resList = []\n",
    "        self.start = 0\n",
    "        self.backtracing(nums)\n",
    "        return self.resList\n",
    "    def backtracing(self, nums):\n",
    "        tmpList = list(self.curList)\n",
    "        self.resList.append(tmpList)\n",
    "        for i in range(self.start, len(nums)):\n",
    "            if nums[i] == nums[i-1] and self.start != i:\n",
    "                continue\n",
    "            self.curList.append(nums[i])\n",
    "            self.start = i + 1\n",
    "            self.backtracing(nums)\n",
    "            self.curList.pop()\n",
    "Test = Solution()\n",
    "Test.subsets([1,2,2,3])"
   ]
  },
  {
   "cell_type": "code",
   "execution_count": 19,
   "metadata": {},
   "outputs": [
    {
     "data": {
      "text/plain": [
       "[[], [1], [1, 2], [1, 2, 2], [2], [2, 2]]"
      ]
     },
     "execution_count": 19,
     "metadata": {},
     "output_type": "execute_result"
    }
   ],
   "source": [
    "class Solution(object):\n",
    "    def subsetsWithDup(self, nums):\n",
    "        \"\"\"\n",
    "        :type nums: List[int]\n",
    "        :rtype: List[List[int]]\n",
    "        \"\"\"\n",
    "        results = []\n",
    "        if not nums:\n",
    "            return [[]]\n",
    "        nums.sort()\n",
    "        self.subsetsHelper(results, nums, 0, [])\n",
    "        return results\n",
    "\n",
    "    def subsetsHelper(self, results, nums, index, curList):\n",
    "        tmpList = list(curList)\n",
    "        results.append(tmpList)\n",
    "\n",
    "        for i in range(index, len(nums)):\n",
    "            if i != index and nums[i] == nums[i-1]:\n",
    "                continue\n",
    "            curList.append(nums[i])\n",
    "            self.subsetsHelper(results, nums, i + 1, curList)\n",
    "            curList.pop()\n",
    "\n",
    "Test = Solution()\n",
    "Test.subsetsWithDup([1,2,2])"
   ]
  },
  {
   "cell_type": "markdown",
   "metadata": {},
   "source": [
    "### 3. Permutation (46)\n",
    "Given a collection of distinct integers, return all possible permutations.\n",
    "\n",
    "Example:\n",
    "\n",
    "Input: [1,2,3]\n",
    "Output:\n",
    "[\n",
    "  [1,2,3],\n",
    "  [1,3,2],\n",
    "  [2,1,3],\n",
    "  [2,3,1],\n",
    "  [3,1,2],\n",
    "  [3,2,1]\n",
    "]\n"
   ]
  },
  {
   "cell_type": "code",
   "execution_count": 46,
   "metadata": {},
   "outputs": [
    {
     "data": {
      "text/plain": [
       "[[1, 2, 3], [1, 3, 2], [2, 1, 3], [2, 3, 1], [3, 1, 2], [3, 2, 1]]"
      ]
     },
     "execution_count": 46,
     "metadata": {},
     "output_type": "execute_result"
    }
   ],
   "source": [
    "class Solution:\n",
    "    def permute(self, nums):\n",
    "        self.curList = []\n",
    "        self.resList = []\n",
    "        self.used = [False for i in nums]\n",
    "        self.help(nums)\n",
    "        return self.resList\n",
    "    def help(self, nums):\n",
    "        if len(nums) == len(self.curList):\n",
    "            tmpList = list(self.curList)\n",
    "            self.resList.append(tmpList)\n",
    "        for i in range(len(nums)):\n",
    "            if not self.used[i]:\n",
    "                self.curList.append(nums[i])\n",
    "                self.used[i] = True\n",
    "                self.help(nums)\n",
    "                self.curList.remove(nums[i])\n",
    "                self.used[i] = False\n",
    "Test = Solution()\n",
    "Test.permute([1,2,3])"
   ]
  },
  {
   "cell_type": "code",
   "execution_count": 26,
   "metadata": {},
   "outputs": [
    {
     "data": {
      "text/plain": [
       "[[1, 2, 3], [1, 3, 2], [2, 1, 3], [2, 3, 1], [3, 1, 2], [3, 2, 1]]"
      ]
     },
     "execution_count": 26,
     "metadata": {},
     "output_type": "execute_result"
    }
   ],
   "source": [
    "class Solution(object):\n",
    "    def permute(self, nums):\n",
    "        \"\"\"\n",
    "        :type nums: List[int]\n",
    "        :rtype: List[List[int]]\n",
    "        \"\"\"\n",
    "        results = []\n",
    "        if not nums:\n",
    "            return results\n",
    "        length = len(nums)\n",
    "        nums.sort() #not necessary in this question, but good habit\n",
    "        used = [False for i in range(length)]\n",
    "        self.permuteHelper(nums, used, results, [])\n",
    "        return results\n",
    "\n",
    "    def permuteHelper(self, nums, used, results, curList):\n",
    "        if len(curList) == len(nums):\n",
    "            tmpList = list(curList)\n",
    "            results.append(tmpList)\n",
    "\n",
    "        for i in range(len(nums)):\n",
    "            if not used[i]:\n",
    "                curList.append(nums[i])\n",
    "                used[i] = True\n",
    "                self.permuteHelper(nums, used, results, curList)\n",
    "                curList.pop()\n",
    "                used[i] = False\n",
    "Test = Solution()\n",
    "Test.permute([1,2,3])"
   ]
  },
  {
   "cell_type": "code",
   "execution_count": 27,
   "metadata": {},
   "outputs": [
    {
     "data": {
      "text/plain": [
       "[[1, 2, 3], [1, 3, 2], [2, 1, 3], [2, 3, 1], [3, 1, 2], [3, 2, 1]]"
      ]
     },
     "execution_count": 27,
     "metadata": {},
     "output_type": "execute_result"
    }
   ],
   "source": [
    "# my solution 1\n",
    "class Solution(object):\n",
    "    def permutation(self, nums):\n",
    "        self.resList = []\n",
    "        self.curList = []\n",
    "        self.used = [False for i in nums]\n",
    "        self.backtracking(nums)\n",
    "        return self.resList\n",
    "    def backtracking(self, nums):\n",
    "        if len(self.curList) == len(nums):\n",
    "            tempList = list(self.curList)\n",
    "            self.resList.append(tempList)\n",
    "        for i in range(len(nums)):\n",
    "            if not self.used[i]:\n",
    "                self.curList.append(nums[i])\n",
    "                self.used[i] = True\n",
    "                self.backtracking(nums)\n",
    "                self.curList.remove(nums[i])\n",
    "                self.used[i] = False\n",
    "Test = Solution()\n",
    "Test.permutation([1,2,3])"
   ]
  },
  {
   "cell_type": "code",
   "execution_count": 33,
   "metadata": {},
   "outputs": [
    {
     "data": {
      "text/plain": [
       "[[1, 2, 3], [1, 3, 2], [2, 1, 3], [2, 3, 1], [3, 1, 2], [3, 2, 1]]"
      ]
     },
     "execution_count": 33,
     "metadata": {},
     "output_type": "execute_result"
    }
   ],
   "source": [
    "# my solution 2\n",
    "class Solution(object):\n",
    "    def permutation(self, nums):\n",
    "        self.resList = []\n",
    "        self.curList = []\n",
    "        # self.used = [False for i in nums]\n",
    "        self.backtracking(nums)\n",
    "        return self.resList\n",
    "    def backtracking(self, nums):\n",
    "        if len(self.curList) == len(nums):\n",
    "            tempList = list(self.curList)\n",
    "            self.resList.append(tempList)\n",
    "        for i in nums:\n",
    "#             print('before ', i)\n",
    "            if i in self.curList:\n",
    "                continue\n",
    "            self.curList.append(i)\n",
    "            self.backtracking(nums)\n",
    "#             print('after ', self.curList, i)\n",
    "            self.curList.remove(i)\n",
    "Test = Solution()\n",
    "Test.permutation([1,2,3])"
   ]
  },
  {
   "cell_type": "markdown",
   "metadata": {},
   "source": [
    "### 4. Permutation II (47)"
   ]
  },
  {
   "cell_type": "code",
   "execution_count": 63,
   "metadata": {
    "scrolled": true
   },
   "outputs": [
    {
     "data": {
      "text/plain": [
       "[[2, 2, 1, 1],\n",
       " [2, 1, 2, 1],\n",
       " [2, 1, 1, 2],\n",
       " [1, 2, 2, 1],\n",
       " [1, 2, 1, 2],\n",
       " [1, 1, 2, 2]]"
      ]
     },
     "execution_count": 63,
     "metadata": {},
     "output_type": "execute_result"
    }
   ],
   "source": [
    "class Solution:\n",
    "    def permuteUnique(self, nums):\n",
    "        if not nums:\n",
    "            return [[]]\n",
    "        nums.sort()\n",
    "        self.curList = []\n",
    "        self.resList = []\n",
    "        self.used = [False for i in nums]\n",
    "        self.help(nums)\n",
    "        return self.resList\n",
    "    def help(self, nums):\n",
    "        if len(nums) == len(self.curList):\n",
    "            self.tmpList = list(self.curList)\n",
    "            self.resList.append(self.tmpList)\n",
    "        for i in range(len(nums)):\n",
    "            if i!= 0 and nums[i] == nums[i-1] and self.used[i-1] == False:\n",
    "                continue\n",
    "            if not self.used[i]:\n",
    "                self.curList.append(nums[i])\n",
    "                self.used[i] = True\n",
    "                self.help(nums)\n",
    "                self.curList.pop()\n",
    "                self.used[i] = False\n",
    "Test = Solution()\n",
    "Test.permuteUnique([2,2,1,1])"
   ]
  },
  {
   "cell_type": "code",
   "execution_count": 58,
   "metadata": {},
   "outputs": [
    {
     "data": {
      "text/plain": [
       "[[1, 1, 2, 2],\n",
       " [1, 2, 1, 2],\n",
       " [1, 2, 2, 1],\n",
       " [2, 1, 1, 2],\n",
       " [2, 1, 2, 1],\n",
       " [2, 2, 1, 1]]"
      ]
     },
     "execution_count": 58,
     "metadata": {},
     "output_type": "execute_result"
    }
   ],
   "source": [
    "class Solution(object):\n",
    "    def permuteUnique(self, nums):\n",
    "        \"\"\"\n",
    "        :type nums: List[int]\n",
    "        :rtype: List[List[int]]\n",
    "        \"\"\"\n",
    "        results = []\n",
    "        if not nums:\n",
    "            return results\n",
    "        length = len(nums)\n",
    "        nums.sort()\n",
    "        used = [False for i in range(length)]\n",
    "        self.permuteHelper(nums, used, results, [])\n",
    "        return results\n",
    "\n",
    "    def permuteHelper(self, nums, used, results, curList):\n",
    "        if len(curList) == len(nums):\n",
    "            tmpList = list(curList)\n",
    "            results.append(tmpList)\n",
    "\n",
    "        for i in range(len(nums)):\n",
    "            if i != 0 and nums[i] == nums[i-1] and used[i-1] == False:\n",
    "                #当i不等于0, nums[i] == nums[i-1]还不够成跳过条件\n",
    "                #如果前一个number已经用在这个list里，是应该保留这个结果的\n",
    "                #只有当前一个number没有被用，如果再用这个重复的数，就会duplicate\n",
    "                #所以加上 used[i-1] == False\n",
    "                continue\n",
    "            if not used[i]:\n",
    "                curList.append(nums[i])\n",
    "                used[i] = True\n",
    "                self.permuteHelper(nums, used, results, curList)\n",
    "                curList.pop()\n",
    "                used[i] = False\n",
    "Test = Solution()\n",
    "Test.permuteUnique([2,2,1,1])"
   ]
  },
  {
   "cell_type": "markdown",
   "metadata": {},
   "source": [
    "### 9. Palindrome Number (9)"
   ]
  },
  {
   "cell_type": "code",
   "execution_count": 64,
   "metadata": {},
   "outputs": [],
   "source": [
    "class Solution:\n",
    "    def __init__(self):\n",
    "        pass\n",
    "    def palindrome(self, num):\n",
    "        # boundary condition\n",
    "        if num < 0:\n",
    "            return False\n",
    "        if num < 10:\n",
    "            return True\n",
    "        # large divider\n",
    "        divider = 1\n",
    "        while num >= divider:\n",
    "            divider *= 10\n",
    "        divider /= 10\n",
    "        # max and min digit\n",
    "        minDig = num%10\n",
    "        maxDig = num//divider\n",
    "        if minDig == maxDig:\n",
    "            num = (num - maxDig*divider - minDig)/10\n",
    "            return self.palindrome(num)\n",
    "        else:\n",
    "            return False"
   ]
  },
  {
   "cell_type": "code",
   "execution_count": 24,
   "metadata": {},
   "outputs": [
    {
     "data": {
      "text/plain": [
       "True"
      ]
     },
     "execution_count": 24,
     "metadata": {},
     "output_type": "execute_result"
    }
   ],
   "source": [
    "TestPalindrome = Solution()\n",
    "TestPalindrome.palindrome(78687)"
   ]
  },
  {
   "cell_type": "markdown",
   "metadata": {},
   "source": [
    "### 10. Restore IP address"
   ]
  },
  {
   "cell_type": "markdown",
   "metadata": {},
   "source": [
    "### 11. letter combination of a Phone number (17)"
   ]
  },
  {
   "cell_type": "code",
   "execution_count": 65,
   "metadata": {},
   "outputs": [],
   "source": [
    "class Solution(object):\n",
    "    def __init__(self):\n",
    "        self.dtcMap = [\"0\", \"1\", \"abc\", \"def\", \"ghi\", \"jkl\", \"mno\", \"pqrs\", \"tuv\", \"wxyz\"]\n",
    "\n",
    "    def letterCombinations(self, digits):\n",
    "        \"\"\"\n",
    "        :type digits: str\n",
    "        :rtype: List[str]\n",
    "        \"\"\"\n",
    "        if not digits:\n",
    "            return []\n",
    "\n",
    "        results = []\n",
    "        self.helper(results, digits, 0, [])\n",
    "\n",
    "        return results\n",
    "\n",
    "    def helper(self, results, digits, index, curList):\n",
    "        if len(curList) == len(digits):\n",
    "            newStr = \"\".join(curList)\n",
    "            results.append(newStr)\n",
    "\n",
    "        for i in range(index, len(digits)):\n",
    "            cOptions = self.dtcMap[int(digits[i])]\n",
    "            for j in range(len(cOptions)):\n",
    "                curList.append(cOptions[j])\n",
    "                self.helper(results, digits, i+1, curList)\n",
    "                curList.pop()"
   ]
  },
  {
   "cell_type": "code",
   "execution_count": 51,
   "metadata": {},
   "outputs": [],
   "source": [
    "# my solution\n",
    "class Solution(object):\n",
    "    def __init__(self):\n",
    "        self.digitLetter =  [\"0\", \"1\", \"abc\", \"def\", \\\n",
    "                             \"ghi\", \"jkl\", \"mno\", \"pqrs\", \"tuv\", \"wxyz\"]\n",
    "    def combinaPhomeNum(self, digits):\n",
    "        # boundary condition\n",
    "        if len(digits) == 0:\n",
    "            return None\n",
    "        if len(digits) == 1:\n",
    "            return list(self.digitLetter[int(digits)])\n",
    "        # map to letters\n",
    "        letters = list(map(lambda x: self.digitLetter[int(x)], digits))\n",
    "        # initialization\n",
    "        self.curList = []\n",
    "        self.resList = []\n",
    "        self.start = 0\n",
    "        self.backtracking(letters)\n",
    "        return self.resList\n",
    "    def backtracking(self, letters):\n",
    "        if len(self.curList) == len(letters):\n",
    "            tmpStr = ''.join(self.curList)\n",
    "            self.resList.append(tmpStr)\n",
    "        for i in range(self.start, len(letters)):\n",
    "            options = letters[i]\n",
    "            for j in range(len(options)):\n",
    "                self.curList.append(options[j])\n",
    "                self.start = i + 1\n",
    "                self.backtracking(letters)\n",
    "                self.curList.pop()"
   ]
  },
  {
   "cell_type": "code",
   "execution_count": 52,
   "metadata": {},
   "outputs": [
    {
     "data": {
      "text/plain": [
       "['ad', 'ae', 'af', 'bd', 'be', 'bf', 'cd', 'ce', 'cf']"
      ]
     },
     "execution_count": 52,
     "metadata": {},
     "output_type": "execute_result"
    }
   ],
   "source": [
    "TestComPhone = Solution()\n",
    "TestComPhone.combinaPhomeNum('23')"
   ]
  },
  {
   "cell_type": "markdown",
   "metadata": {},
   "source": [
    "### 6. Implement strStr (28)"
   ]
  },
  {
   "cell_type": "code",
   "execution_count": 66,
   "metadata": {},
   "outputs": [],
   "source": [
    "class Solution:\n",
    "    def strStr(self, haystack, needle):\n",
    "        \"\"\"\n",
    "        :type haystack: str\n",
    "        :type needle: str\n",
    "        :rtype: int\n",
    "        \"\"\"\n",
    "        lenNeedle = len(needle)\n",
    "        if lenNeedle <= 0:\n",
    "            return 0\n",
    "        for i, value in enumerate(haystack):\n",
    "            if value == needle[0]:\n",
    "                if haystack[i:i+lenNeedle] == needle:\n",
    "                    return i\n",
    "        return -1"
   ]
  },
  {
   "cell_type": "markdown",
   "metadata": {},
   "source": [
    "### 7. Permutation Sequence (60)\n",
    "The set [1,2,3,...,n] contains a total of n! unique permutations.\n",
    "\n",
    "By listing and labeling all of the permutations in order, we get the following sequence for n = 3:\n",
    "\n",
    "\"123\"\n",
    "\"132\"\n",
    "\"213\"\n",
    "\"231\"\n",
    "\"312\"\n",
    "\"321\"\n",
    "Given n and k, return the kth permutation sequence.\n",
    "\n",
    "Note:\n",
    "\n",
    "Given n will be between 1 and 9 inclusive.\n",
    "Given k will be between 1 and n! inclusive."
   ]
  },
  {
   "cell_type": "code",
   "execution_count": 68,
   "metadata": {},
   "outputs": [],
   "source": [
    "class Solution:\n",
    "    def getPermutation(self, n, k):\n",
    "        \"\"\"\n",
    "        :type n: int\n",
    "        :type k: int\n",
    "        :rtype: str\n",
    "        \"\"\"\n",
    "        self.count = 0\n",
    "        self.k = k\n",
    "        res = self.permute([str(i+1) for i in range(n)])\n",
    "        return ''.join(res)\n",
    "    \n",
    "    def permute(self, nums):\n",
    "        nums.sort()\n",
    "        self.curList = []\n",
    "        self.used = [False for i in range(len(nums))]\n",
    "        self.helpPermute(nums)\n",
    "        return self.tmpList\n",
    "    \n",
    "    def helpPermute(self, nums):\n",
    "        if len(self.curList) == len(nums):\n",
    "            self.tmpList = list(self.curList)\n",
    "            self.count += 1\n",
    "        if self.count == self.k:\n",
    "            return\n",
    "        for i in range(len(nums)):\n",
    "            if not self.used[i]:\n",
    "                self.curList.append(nums[i])\n",
    "                self.used[i] = True\n",
    "                self.helpPermute(nums)\n",
    "                self.curList.pop()\n",
    "                self.used[i] = False\n",
    "                "
   ]
  },
  {
   "cell_type": "code",
   "execution_count": 98,
   "metadata": {},
   "outputs": [
    {
     "data": {
      "text/plain": [
       "'3412'"
      ]
     },
     "execution_count": 98,
     "metadata": {},
     "output_type": "execute_result"
    }
   ],
   "source": [
    "import math\n",
    "class Solution(object):\n",
    "    def getPermutation(self, n, k):\n",
    "        \"\"\"\n",
    "        :type n: int\n",
    "        :type k: int\n",
    "        :rtype: str\n",
    "        \"\"\"\n",
    "        fres = ''\n",
    "        k -= 1\n",
    "        nums = [i+1 for i in range(n)]\n",
    "        while n > 0:\n",
    "            n -= 1\n",
    "            divider, k = divmod(k, math.factorial(n))\n",
    "            res = nums[int(divider)]\n",
    "            nums.remove(res)\n",
    "            fres += str(res)\n",
    "        return fres\n",
    "Test = Solution()\n",
    "Test.getPermutation(4,17)"
   ]
  }
 ],
 "metadata": {
  "kernelspec": {
   "display_name": "Python 3",
   "language": "python",
   "name": "python3"
  },
  "language_info": {
   "codemirror_mode": {
    "name": "ipython",
    "version": 3
   },
   "file_extension": ".py",
   "mimetype": "text/x-python",
   "name": "python",
   "nbconvert_exporter": "python",
   "pygments_lexer": "ipython3",
   "version": "3.6.6"
  }
 },
 "nbformat": 4,
 "nbformat_minor": 2
}
