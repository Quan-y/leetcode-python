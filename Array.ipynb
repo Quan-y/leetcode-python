{
 "cells": [
  {
   "cell_type": "markdown",
   "metadata": {},
   "source": [
    "### 1. Remove Element (27)"
   ]
  },
  {
   "cell_type": "code",
   "execution_count": 18,
   "metadata": {},
   "outputs": [],
   "source": [
    "class Solution(object):\n",
    "    def removeElement(self, nums, val):\n",
    "        \"\"\"\n",
    "        :type nums: List[int]\n",
    "        :type val: int\n",
    "        :rtype: int\n",
    "        \"\"\"\n",
    "        if not nums:\n",
    "            return 0\n",
    "        start = 0\n",
    "        end = len(nums) - 1\n",
    "        while start <= end:\n",
    "            if nums[start] == val:\n",
    "                nums[start] = nums[end]\n",
    "                if end == 0:\n",
    "                    return 0\n",
    "                end -= 1\n",
    "            else:\n",
    "                start += 1\n",
    "        return len(nums[:end+1])"
   ]
  },
  {
   "cell_type": "code",
   "execution_count": 19,
   "metadata": {
    "scrolled": true
   },
   "outputs": [
    {
     "data": {
      "text/plain": [
       "0"
      ]
     },
     "execution_count": 19,
     "metadata": {},
     "output_type": "execute_result"
    }
   ],
   "source": [
    "Test = Solution()\n",
    "Test.removeElement(nums = [1], val = 1)"
   ]
  },
  {
   "cell_type": "markdown",
   "metadata": {},
   "source": [
    "### 2. Remove Duplicates from Sorted Array (26)"
   ]
  },
  {
   "cell_type": "code",
   "execution_count": 26,
   "metadata": {},
   "outputs": [],
   "source": [
    "class Solution(object):\n",
    "    def removeDuplicates(self, nums):\n",
    "        \"\"\"\n",
    "        :type nums: List[int]\n",
    "        :rtype: int\n",
    "        \"\"\"\n",
    "        p1 = 0\n",
    "        p2 = 1\n",
    "        length = len(nums)\n",
    "        while p2 < length:\n",
    "            if nums[p2] == nums[p2 - 1]:\n",
    "                p2 += 1\n",
    "            else:\n",
    "                p1 += 1\n",
    "                nums[p1] = nums[p2]\n",
    "                p2 += 1\n",
    "        return len(nums[:p1+1])"
   ]
  },
  {
   "cell_type": "code",
   "execution_count": 27,
   "metadata": {},
   "outputs": [
    {
     "data": {
      "text/plain": [
       "2"
      ]
     },
     "execution_count": 27,
     "metadata": {},
     "output_type": "execute_result"
    }
   ],
   "source": [
    "Test = Solution()\n",
    "Test.removeDuplicates(nums = [1,1,2])"
   ]
  },
  {
   "cell_type": "markdown",
   "metadata": {},
   "source": [
    "### 3. Remove Duplicates from Sorted Array II "
   ]
  },
  {
   "cell_type": "code",
   "execution_count": 86,
   "metadata": {},
   "outputs": [],
   "source": [
    "class Solution(object):\n",
    "    def removeDuplicates(self, nums):\n",
    "        \"\"\"\n",
    "        :type nums: List[int]\n",
    "        :rtype: int\n",
    "        \"\"\"\n",
    "        newindex = 0\n",
    "        p1 = 0\n",
    "        p2 = 1\n",
    "        length = len(nums)\n",
    "        while p1 < length:\n",
    "            p2 = p1 + 1\n",
    "            while p2 < length and nums[p2] == nums[p2 - 1]:\n",
    "                p2 += 1\n",
    "            if p2 - p1 >= 2:\n",
    "                nums[newindex] = nums[p1]\n",
    "                newindex += 1\n",
    "                nums[newindex] = nums[p1]\n",
    "                newindex += 1\n",
    "            else:\n",
    "                nums[newindex] = nums[p1]\n",
    "                newindex += 1\n",
    "            p1 = p2\n",
    "        return len(nums[:newindex])"
   ]
  },
  {
   "cell_type": "code",
   "execution_count": 87,
   "metadata": {
    "scrolled": true
   },
   "outputs": [
    {
     "data": {
      "text/plain": [
       "5"
      ]
     },
     "execution_count": 87,
     "metadata": {},
     "output_type": "execute_result"
    }
   ],
   "source": [
    "Test = Solution()\n",
    "Test.removeDuplicates(nums = [1,1,1,2,2,3])"
   ]
  },
  {
   "cell_type": "markdown",
   "metadata": {},
   "source": [
    "### 4. Container With Most Water (11)"
   ]
  },
  {
   "cell_type": "code",
   "execution_count": 1,
   "metadata": {},
   "outputs": [],
   "source": [
    "# class Solution(object):\n",
    "#     def maxArea(self, height):\n",
    "#         \"\"\"\n",
    "#         :type height: List[int]\n",
    "#         :rtype: int\n",
    "#         \"\"\"\n",
    "#         if height == []:\n",
    "#             return 0\n",
    "#         N = len(height)\n",
    "#         max_water = -1\n",
    "#         for i in range(N):\n",
    "#             for j in range(i+1,N):\n",
    "#                 max_water = max(max_water, min(height[i], height[j])*(j-i))\n",
    "#         return max_water\n",
    "\n",
    "class Solution(object):\n",
    "    def maxArea(self, height):\n",
    "        \"\"\"\n",
    "        :type height: List[int]\n",
    "        :rtype: int\n",
    "        \"\"\"\n",
    "        left = 0\n",
    "        right = len(height) - 1\n",
    "        maxarea = 0\n",
    "        while left < right:\n",
    "            high = min(height[left], height[right])\n",
    "            width = right - left\n",
    "            maxarea = max(maxarea, high*width)\n",
    "            if height[left] < height[right]:\n",
    "                left += 1\n",
    "            else:\n",
    "                right -= 1\n",
    "        return maxarea"
   ]
  },
  {
   "cell_type": "markdown",
   "metadata": {},
   "source": [
    "### 5. 2Sum (1)"
   ]
  },
  {
   "cell_type": "code",
   "execution_count": 5,
   "metadata": {},
   "outputs": [],
   "source": [
    "class Solution:\n",
    "    def twoSum(self, nums, target):\n",
    "        hashmap = {}\n",
    "        for i in range(len(nums)):\n",
    "            if nums[i] not in hashmap:\n",
    "                hashmap[target - nums[i]] = i\n",
    "            else:\n",
    "                return hashmap[nums[i]], i"
   ]
  },
  {
   "cell_type": "markdown",
   "metadata": {},
   "source": [
    "### 6. 3Sum (15)"
   ]
  },
  {
   "cell_type": "code",
   "execution_count": 8,
   "metadata": {},
   "outputs": [],
   "source": [
    "class Solution(object):\n",
    "    def threeSum(self, nums):\n",
    "        \"\"\"\n",
    "        :type nums: List[int]\n",
    "        :rtype: List[List[int]]\n",
    "        \"\"\"\n",
    "        sum3 = []\n",
    "        nums.sort()\n",
    "        for i, each in enumerate(nums):\n",
    "            target = 0 - each\n",
    "            result = self.twosum(nums[i+1:], target)\n",
    "            if result != []:\n",
    "                for j in result:\n",
    "                    j.append(each)\n",
    "                    if j not in sum3:\n",
    "                        sum3.append(j)\n",
    "        return sum3\n",
    "    \n",
    "    def twosum(self, nums, target):\n",
    "        hashmap = {}\n",
    "        result = []\n",
    "        for i in range(len(nums)):\n",
    "            if nums[i] not in hashmap:\n",
    "                hashmap[target - nums[i]] = i\n",
    "            else:\n",
    "                result.append([nums[hashmap[nums[i]]], nums[i]])\n",
    "        return result"
   ]
  },
  {
   "cell_type": "markdown",
   "metadata": {},
   "source": [
    "### 7. Find the Duplicate Number (287)"
   ]
  },
  {
   "cell_type": "code",
   "execution_count": 1,
   "metadata": {},
   "outputs": [],
   "source": [
    "class Solution(object):\n",
    "    def findDuplicate(self, nums):\n",
    "        \"\"\"\n",
    "        :type nums: List[int]\n",
    "        :rtype: int\n",
    "        \"\"\"\n",
    "        if nums == []:\n",
    "            return None\n",
    "        for each in nums:\n",
    "            if each < 0:\n",
    "                x = each*-1\n",
    "            else:\n",
    "                x = each\n",
    "            if nums[x] < 0:\n",
    "                return x\n",
    "            else:\n",
    "                nums[x] = -nums[x]"
   ]
  },
  {
   "cell_type": "markdown",
   "metadata": {},
   "source": [
    "### 8. Move Zeroes (283)"
   ]
  },
  {
   "cell_type": "code",
   "execution_count": 2,
   "metadata": {},
   "outputs": [],
   "source": [
    "class Solution(object):\n",
    "    def moveZeroes(self, nums):\n",
    "        \"\"\"\n",
    "        :type nums: List[int]\n",
    "        :rtype: None Do not return anything, modify nums in-place instead.\n",
    "        \"\"\"\n",
    "        point1 = 0\n",
    "        point2 = 0\n",
    "        while point2 < len(nums):\n",
    "            if nums[point2] != 0:\n",
    "                tmp = nums[point1]\n",
    "                nums[point1] = nums[point2]\n",
    "                nums[point2] = tmp\n",
    "                point1 += 1\n",
    "                point2 += 1\n",
    "            else:\n",
    "                point2 += 1"
   ]
  },
  {
   "cell_type": "markdown",
   "metadata": {},
   "source": [
    "### 9. Remove Elements"
   ]
  },
  {
   "cell_type": "code",
   "execution_count": 3,
   "metadata": {},
   "outputs": [],
   "source": [
    "class Solution(object):\n",
    "    def removeElement(self, nums, val):\n",
    "        \"\"\"\n",
    "        :type nums: List[int]\n",
    "        :type val: int\n",
    "        :rtype: int\n",
    "        \"\"\"\n",
    "        if not nums:\n",
    "            return 0\n",
    "        start = 0\n",
    "        end = len(nums) - 1\n",
    "        while start <= end:\n",
    "            if nums[start] == val:\n",
    "                nums[start] = nums[end]\n",
    "                if end == 0:\n",
    "                    return 0\n",
    "                end -= 1\n",
    "            else:\n",
    "                start += 1\n",
    "        return len(nums[:end+1])"
   ]
  },
  {
   "cell_type": "markdown",
   "metadata": {},
   "source": [
    "### 10. Rotate Array (189)"
   ]
  },
  {
   "cell_type": "code",
   "execution_count": 1,
   "metadata": {},
   "outputs": [],
   "source": [
    "class Solution(object):\n",
    "    def rotate(self, nums, k):\n",
    "        \"\"\"\n",
    "        :type nums: List[int]\n",
    "        :type k: int\n",
    "        :rtype: None Do not return anything, modify nums in-place instead.\n",
    "        \"\"\"\n",
    "        for i in range(k):\n",
    "            rightvalue = nums.pop()\n",
    "            nums.insert(0, rightvalue)"
   ]
  },
  {
   "cell_type": "markdown",
   "metadata": {},
   "source": [
    "### 11. NOT SURE Non-decreasing Array (665)"
   ]
  },
  {
   "cell_type": "code",
   "execution_count": 2,
   "metadata": {},
   "outputs": [],
   "source": [
    "class Solution(object):\n",
    "    def checkPossibility(self, nums):\n",
    "        \"\"\"\n",
    "        :type nums: List[int]\n",
    "        :rtype: bool\n",
    "        \"\"\"\n",
    "        n = len(nums)\n",
    "        count = 0\n",
    "        for i in range(1, n):\n",
    "            if nums[i] < nums[i-1]:\n",
    "                if count == 1:\n",
    "                    return False\n",
    "                if i - 1 > 0 and nums[i-2] > nums[i] and i + 1 < n and nums[i+1] < nums[i-1]:\n",
    "                    return False\n",
    "                count += 1\n",
    "        return True"
   ]
  },
  {
   "cell_type": "markdown",
   "metadata": {},
   "source": [
    "### 12. Third Maximum Number (414)"
   ]
  },
  {
   "cell_type": "code",
   "execution_count": null,
   "metadata": {},
   "outputs": [],
   "source": [
    "class Solution(object):\n",
    "    def thirdMax(self, nums):\n",
    "        \"\"\"\n",
    "        :type nums: List[int]\n",
    "        :rtype: int\n",
    "        \"\"\"\n",
    "        nums = list(set(nums))\n",
    "        if len(nums) < 3:\n",
    "            return max(nums)\n",
    "        else:\n",
    "            nums.sort(reverse = True)\n",
    "            return nums[2]"
   ]
  },
  {
   "cell_type": "markdown",
   "metadata": {},
   "source": [
    "### 13. Find All Duplicates in an Array (442)"
   ]
  },
  {
   "cell_type": "code",
   "execution_count": null,
   "metadata": {},
   "outputs": [],
   "source": [
    "class Solution(object):\n",
    "    def findDuplicates(self, nums):\n",
    "        \"\"\"\n",
    "        :type nums: List[int]\n",
    "        :rtype: List[int]\n",
    "        \"\"\"\n",
    "        # left boundary\n",
    "        if len(nums) <= 1:\n",
    "            return []\n",
    "        if len(nums) == 2:\n",
    "            if nums[0] == nums[1]:\n",
    "                return [nums[0]]\n",
    "            else:\n",
    "                return []\n",
    "        # window\n",
    "        nums.sort()\n",
    "        result = []\n",
    "        for i in range(1, len(nums)):\n",
    "            if i + 1 < len(nums) and nums[i-1] == nums[i] and nums[i+1] != nums[i]:\n",
    "                result.append(nums[i])\n",
    "        # right boundary\n",
    "        if nums[i-1] == nums[i]:\n",
    "            result.append(nums[i])\n",
    "        return result"
   ]
  },
  {
   "cell_type": "code",
   "execution_count": null,
   "metadata": {},
   "outputs": [],
   "source": [
    "class Solution(object):\n",
    "    def findDuplicates(self, nums):\n",
    "        \"\"\"\n",
    "        :type nums: List[int]\n",
    "        :rtype: List[int]\n",
    "        \"\"\"\n",
    "\n",
    "        nums.sort()\n",
    "        n = len(nums)\n",
    "        if n==0:\n",
    "            return nums\n",
    "        res = []\n",
    "        for i in range(n-1):\n",
    "            if nums[i] == nums[i+1]:\n",
    "                res.append(nums[i])      \n",
    "        return res"
   ]
  }
 ],
 "metadata": {
  "kernelspec": {
   "display_name": "Python 3",
   "language": "python",
   "name": "python3"
  },
  "language_info": {
   "codemirror_mode": {
    "name": "ipython",
    "version": 3
   },
   "file_extension": ".py",
   "mimetype": "text/x-python",
   "name": "python",
   "nbconvert_exporter": "python",
   "pygments_lexer": "ipython3",
   "version": "3.6.7"
  }
 },
 "nbformat": 4,
 "nbformat_minor": 2
}
