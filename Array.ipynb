{
 "cells": [
  {
   "cell_type": "markdown",
   "metadata": {},
   "source": [
    "### 1. Remove Element (27)"
   ]
  },
  {
   "cell_type": "code",
   "execution_count": 18,
   "metadata": {},
   "outputs": [],
   "source": [
    "class Solution(object):\n",
    "    def removeElement(self, nums, val):\n",
    "        \"\"\"\n",
    "        :type nums: List[int]\n",
    "        :type val: int\n",
    "        :rtype: int\n",
    "        \"\"\"\n",
    "        if not nums:\n",
    "            return 0\n",
    "        start = 0\n",
    "        end = len(nums) - 1\n",
    "        while start <= end:\n",
    "            if nums[start] == val:\n",
    "                nums[start] = nums[end]\n",
    "                if end == 0:\n",
    "                    return 0\n",
    "                end -= 1\n",
    "            else:\n",
    "                start += 1\n",
    "        return len(nums[:end+1])"
   ]
  },
  {
   "cell_type": "code",
   "execution_count": 19,
   "metadata": {
    "scrolled": true
   },
   "outputs": [
    {
     "data": {
      "text/plain": [
       "0"
      ]
     },
     "execution_count": 19,
     "metadata": {},
     "output_type": "execute_result"
    }
   ],
   "source": [
    "Test = Solution()\n",
    "Test.removeElement(nums = [1], val = 1)"
   ]
  },
  {
   "cell_type": "markdown",
   "metadata": {},
   "source": [
    "### 2. Remove Duplicates from Sorted Array (26)"
   ]
  },
  {
   "cell_type": "code",
   "execution_count": 26,
   "metadata": {},
   "outputs": [],
   "source": [
    "class Solution(object):\n",
    "    def removeDuplicates(self, nums):\n",
    "        \"\"\"\n",
    "        :type nums: List[int]\n",
    "        :rtype: int\n",
    "        \"\"\"\n",
    "        p1 = 0\n",
    "        p2 = 1\n",
    "        length = len(nums)\n",
    "        while p2 < length:\n",
    "            if nums[p2] == nums[p2 - 1]:\n",
    "                p2 += 1\n",
    "            else:\n",
    "                p1 += 1\n",
    "                nums[p1] = nums[p2]\n",
    "                p2 += 1\n",
    "        return len(nums[:p1+1])"
   ]
  },
  {
   "cell_type": "code",
   "execution_count": 27,
   "metadata": {},
   "outputs": [
    {
     "data": {
      "text/plain": [
       "2"
      ]
     },
     "execution_count": 27,
     "metadata": {},
     "output_type": "execute_result"
    }
   ],
   "source": [
    "Test = Solution()\n",
    "Test.removeDuplicates(nums = [1,1,2])"
   ]
  },
  {
   "cell_type": "markdown",
   "metadata": {},
   "source": [
    "### 3. Remove Duplicates from Sorted Array II "
   ]
  },
  {
   "cell_type": "code",
   "execution_count": 86,
   "metadata": {},
   "outputs": [],
   "source": [
    "class Solution(object):\n",
    "    def removeDuplicates(self, nums):\n",
    "        \"\"\"\n",
    "        :type nums: List[int]\n",
    "        :rtype: int\n",
    "        \"\"\"\n",
    "        newindex = 0\n",
    "        p1 = 0\n",
    "        p2 = 1\n",
    "        length = len(nums)\n",
    "        while p1 < length:\n",
    "            p2 = p1 + 1\n",
    "            while p2 < length and nums[p2] == nums[p2 - 1]:\n",
    "                p2 += 1\n",
    "            if p2 - p1 >= 2:\n",
    "                nums[newindex] = nums[p1]\n",
    "                newindex += 1\n",
    "                nums[newindex] = nums[p1]\n",
    "                newindex += 1\n",
    "            else:\n",
    "                nums[newindex] = nums[p1]\n",
    "                newindex += 1\n",
    "            p1 = p2\n",
    "        return len(nums[:newindex])"
   ]
  },
  {
   "cell_type": "code",
   "execution_count": 87,
   "metadata": {
    "scrolled": true
   },
   "outputs": [
    {
     "data": {
      "text/plain": [
       "5"
      ]
     },
     "execution_count": 87,
     "metadata": {},
     "output_type": "execute_result"
    }
   ],
   "source": [
    "Test = Solution()\n",
    "Test.removeDuplicates(nums = [1,1,1,2,2,3])"
   ]
  }
 ],
 "metadata": {
  "kernelspec": {
   "display_name": "Python 3",
   "language": "python",
   "name": "python3"
  },
  "language_info": {
   "codemirror_mode": {
    "name": "ipython",
    "version": 3
   },
   "file_extension": ".py",
   "mimetype": "text/x-python",
   "name": "python",
   "nbconvert_exporter": "python",
   "pygments_lexer": "ipython3",
   "version": "3.6.6"
  }
 },
 "nbformat": 4,
 "nbformat_minor": 2
}
