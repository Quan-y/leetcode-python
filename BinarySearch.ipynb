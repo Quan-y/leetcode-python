{
 "cells": [
  {
   "cell_type": "markdown",
   "metadata": {},
   "source": [
    "## 四大要素\n",
    "找第一次出现的位置，还是最后一次出现的位置\n",
    "\n",
    "1. start + 1 < end 避免死循环\n",
    "2. 考虑溢出: start + (end - start)/2，不写(start + end)/2\n",
    "3. end = mid, A[mid], ==, <, >\n",
    "4. 考虑是找A[start]还是A[end]"
   ]
  },
  {
   "cell_type": "markdown",
   "metadata": {},
   "source": [
    "* 第一类: 二分法变体\n",
    "* 第二类：与math相关\n",
    "* 第三类：2D matrix\n",
    "* 第四类：部分sorted array或者rotated array"
   ]
  },
  {
   "cell_type": "markdown",
   "metadata": {},
   "source": [
    "1. Search for a range  \n",
    "https://www.lintcode.com/problem/search-for-a-range/description  \n",
    "https://www.jiuzhang.com/solutions/search-for-a-range/\n",
    "2. Search Insert Position  \n",
    "https://www.lintcode.com/problem/search-insert-position/description  \n",
    "https://www.jiuzhang.com/solutions/search-insert-position/  \n",
    "3. Search a 2D Matrix  \n",
    "https://www.lintcode.com/problem/search-a-2d-matrix/  \n",
    "https://www.jiuzhang.com/solutions/search-a-2d-matrix/  \n",
    "4. Search a 2D Matrix II  \n",
    "https://www.lintcode.com/problem/search-a-2d-matrix-ii/description  \n",
    "5. First Bad Version  \n",
    "https://www.lintcode.com/problem/first-bad-version/  \n",
    "https://www.jiuzhang.com/solutions/first-bad-version/  \n",
    "6. Find Peak Element  \n",
    "http://www.lintcode.com/problem/find-peak-element/  \n",
    "http://www.jiuzhang.com/solutions/find-peak-element/  \n",
    "7. Rotated Sorted Array\n",
    "8. Find Minimum in Rotated Sorted Array  \n",
    "http://www.lintcode.com/problem/find-minimum-in-rotated-sorted-array/   \n",
    "http://www.jiuzhang.com/solutions/find-minimum-in-rotated-sorted-array/  \n",
    "9. Find Minimum in Rotated Sorted Array II  \n",
    "http://www.lintcode.com/zh-cn/problem/find-minimum-in-rotated-sorted-array-ii/  \n",
    "10. Search in Rotated Sorted Array  \n",
    "http://www.lintcode.com/problem/search-in-rotated-sorted-array/  \n",
    "http://www.jiuzhang.com/solutions/search-in-rotated-sorted-array/  \n",
    "11. Search in Rotated Sorted Array II  \n",
    "http://www.lintcode.com/problem/search-in-rotated-sorted-array-ii/  \n",
    "12. Median of Two Sorted Arrays  \n",
    "http://www.lintcode.com/problem/median-of-two-sorted-arrays/  \n",
    "http://www.ninechapter.com/solutions/median-of-two-sorted-arrays/  \n",
    "13. Recover Rotated Sorted Array 三步翻转法 45123 54321 12345  \n",
    "http://www.lintcode.com/problem/recover-rotated-sorted-array/  \n",
    "http://www.jiuzhang.com/solutions/recover-rotated-sorted-array/   \n",
    "14. Rotate String  \n",
    "http://www.lintcode.com/problem/rotate-string/  \n",
    "http://www.jiuzhang.com/solutions/rotate-string/  \n",
    "15. Reverse Words in a String  \n",
    "http://www.lintcode.com/problem/reverse-words-in-a-string/  \n",
    "http://www.jiuzhang.com/solutions/reverse-words-in-a-string/  \n",
    "16. merge sorted array"
   ]
  },
  {
   "cell_type": "markdown",
   "metadata": {},
   "source": [
    "### 1. Binary Search (704)"
   ]
  },
  {
   "cell_type": "code",
   "execution_count": 1,
   "metadata": {},
   "outputs": [],
   "source": [
    "class Solution:\n",
    "    def search(self, nums, target):\n",
    "        \"\"\"\n",
    "        :type nums: List[int]\n",
    "        :type target: int\n",
    "        :rtype: int\n",
    "        \"\"\"\n",
    "        if len(nums) == 0:\n",
    "            return -1\n",
    "        start, end = 0, len(nums) - 1\n",
    "        while start + 1 < end:\n",
    "            mid = start + (end - start)//2\n",
    "            if nums[mid] < target:\n",
    "                start = mid\n",
    "            else:\n",
    "                end = mid\n",
    "        if nums[start] == target:\n",
    "            return start\n",
    "        if nums[end] == target:\n",
    "            return end\n",
    "        return -1"
   ]
  },
  {
   "cell_type": "markdown",
   "metadata": {},
   "source": [
    "### 2. Search Insert Position (35)"
   ]
  },
  {
   "cell_type": "code",
   "execution_count": 35,
   "metadata": {},
   "outputs": [],
   "source": [
    "class Solution:\n",
    "    def searchInsert(self, nums, target):\n",
    "        if len(nums) == 0:\n",
    "            return -1\n",
    "        start = 0\n",
    "        end = len(nums) - 1\n",
    "        while start + 1 < end:\n",
    "            mid = start + (end - start)//2\n",
    "            if nums[mid] < target:\n",
    "                start = mid\n",
    "            else:\n",
    "                end = mid\n",
    "        if nums[start] >= target:\n",
    "            return start\n",
    "        elif nums[end] >= target:\n",
    "            return end\n",
    "        else:\n",
    "            return len(nums)"
   ]
  },
  {
   "cell_type": "code",
   "execution_count": 37,
   "metadata": {},
   "outputs": [
    {
     "data": {
      "text/plain": [
       "1"
      ]
     },
     "execution_count": 37,
     "metadata": {},
     "output_type": "execute_result"
    }
   ],
   "source": [
    "Test = Solution()\n",
    "Test.searchInsert([1,3,5,6], 2)"
   ]
  },
  {
   "cell_type": "markdown",
   "metadata": {},
   "source": [
    "### 3. Find First and Last Position of Element in Sorted Array (34)"
   ]
  },
  {
   "cell_type": "code",
   "execution_count": 38,
   "metadata": {},
   "outputs": [],
   "source": [
    "class Solution:\n",
    "    def searchRange(self, nums, target):\n",
    "        left = -1\n",
    "        right = -1\n",
    "        if len(nums) == 0:\n",
    "            return [left, right]\n",
    "        \n",
    "        # find left position\n",
    "        start = 0; end = len(nums) - 1\n",
    "        while start + 1 < end:\n",
    "            mid = start + (end - start)//2\n",
    "            if nums[mid] >= target:\n",
    "                end = mid\n",
    "            else:\n",
    "                start = mid\n",
    "        if nums[start] == target:\n",
    "            left = start\n",
    "        elif nums[end] == target:\n",
    "            left = end\n",
    "        else:\n",
    "            return [-1, -1]\n",
    "        \n",
    "        # find right position\n",
    "        start = 0\n",
    "        end = len(nums) - 1\n",
    "        while start + 1 < end:\n",
    "            mid = start + (end - start)//2\n",
    "            if nums[mid] <= target:\n",
    "                start = mid\n",
    "            else:\n",
    "                end = mid\n",
    "        if nums[end] == target:\n",
    "            right = end\n",
    "        elif nums[start] == target:\n",
    "            right = start\n",
    "        else:\n",
    "            return [-1, -1]\n",
    "        \n",
    "        return [left, right]\n",
    "        "
   ]
  },
  {
   "cell_type": "markdown",
   "metadata": {},
   "source": [
    "### 4. isBadVersion (278)"
   ]
  },
  {
   "cell_type": "code",
   "execution_count": 44,
   "metadata": {},
   "outputs": [],
   "source": [
    "class Solution:\n",
    "    def firstBadVersion(self, n):\n",
    "        \"\"\"\n",
    "        :type n: int\n",
    "        :rtype: int\n",
    "        \"\"\"\n",
    "        if n == 0:\n",
    "            return -1\n",
    "        start = 1\n",
    "        end = n\n",
    "        while start + 1 < end:\n",
    "            mid = start + (end - start)//2\n",
    "            if isBadVersion(mid) == False:\n",
    "                start = mid\n",
    "            else:\n",
    "                end = mid\n",
    "        if isBadVersion(start) == True:\n",
    "            return start\n",
    "        if isBadVersion(end) == True:\n",
    "            return end"
   ]
  },
  {
   "cell_type": "markdown",
   "metadata": {},
   "source": [
    "### 5. Find Peak Element (162)"
   ]
  },
  {
   "cell_type": "code",
   "execution_count": null,
   "metadata": {},
   "outputs": [],
   "source": [
    "class Solution:\n",
    "    def findPeakElement(self, nums):\n",
    "        if len(nums) == 0:\n",
    "            return -1\n",
    "        if len(nums) == 1:\n",
    "            return 0\n",
    "        if len(nums) == 2:\n",
    "            if nums[0] > nums[1]:\n",
    "                return 0\n",
    "            else:\n",
    "                return 1\n",
    "\n",
    "        start = 0\n",
    "        end = len(nums) - 1\n",
    "        while start + 1 < end:\n",
    "            mid = start + (end - start)//2\n",
    "            # peak value in the right part\n",
    "            if nums[mid] >= nums[mid - 1] and nums[mid] <= nums[mid + 1]:\n",
    "                start = mid\n",
    "            # peak value in the left part\n",
    "            elif nums[mid] <= nums[mid - 1] and nums[mid] >= nums[mid + 1]:\n",
    "                end = mid\n",
    "            elif nums[mid] >= nums[mid - 1] and nums[mid] >= nums[mid + 1]:\n",
    "                return mid\n",
    "            else:\n",
    "                start = mid\n",
    "        if nums[start] >= nums[end]:\n",
    "            return start\n",
    "        else:\n",
    "            return end"
   ]
  },
  {
   "cell_type": "markdown",
   "metadata": {},
   "source": [
    "### 6. Sqrt(x) (69)"
   ]
  },
  {
   "cell_type": "code",
   "execution_count": null,
   "metadata": {},
   "outputs": [],
   "source": [
    "class Solution:\n",
    "    def mySqrt(self, x):\n",
    "        if x < 0:\n",
    "            return -1\n",
    "        start = 0\n",
    "        end = x\n",
    "        while start + 1 < end:\n",
    "            mid = start + (end - start)//2\n",
    "            if mid**2 > x:\n",
    "                end = mid\n",
    "            else:\n",
    "                start = mid\n",
    "        if start**2 == x:\n",
    "            return start\n",
    "        elif end**2 == x:\n",
    "            return end\n",
    "        return start"
   ]
  },
  {
   "cell_type": "markdown",
   "metadata": {},
   "source": [
    "### 7. Pow(x, n) (50)"
   ]
  },
  {
   "cell_type": "code",
   "execution_count": 25,
   "metadata": {},
   "outputs": [],
   "source": [
    "class Solution:\n",
    "    def myPow(self, x, n):\n",
    "        if x == 0:\n",
    "            return 0\n",
    "        if x == 1:\n",
    "            return 1\n",
    "        # outdoor\n",
    "        if n == 0:\n",
    "            return 1\n",
    "        if n < 0:\n",
    "            res = self.myPow(x, -n)\n",
    "            return 1/res\n",
    "        \n",
    "        res = self.myPow(x, n//2)\n",
    "        res *= res\n",
    "        \n",
    "        if n%2 != 0:\n",
    "            res *= x\n",
    "        return res"
   ]
  },
  {
   "cell_type": "code",
   "execution_count": 26,
   "metadata": {},
   "outputs": [
    {
     "data": {
      "text/plain": [
       "16"
      ]
     },
     "execution_count": 26,
     "metadata": {},
     "output_type": "execute_result"
    }
   ],
   "source": [
    "Test = Solution()\n",
    "Test.myPow(4, 2)"
   ]
  },
  {
   "cell_type": "markdown",
   "metadata": {},
   "source": [
    "### 8. Search a 2D Matrix (74)"
   ]
  },
  {
   "cell_type": "code",
   "execution_count": 42,
   "metadata": {},
   "outputs": [],
   "source": [
    "class Solution:\n",
    "    def searchMatrix(self, matrix, target):\n",
    "        if matrix == [] or matrix == [[]]:\n",
    "            return False\n",
    "        x = len(matrix) - 1\n",
    "        y = 0\n",
    "        self.col = len(matrix[0]) - 1\n",
    "        self.row = x\n",
    "        res = self.move(x, y, matrix, target)\n",
    "        return res\n",
    "    def move(self, x, y, matrix, target):\n",
    "        count = 0\n",
    "        while count < (self.col + 1)*(self.row + 1):\n",
    "            count += 1\n",
    "            if matrix[x][y] > target:\n",
    "                x -= 1\n",
    "                if x < 0:\n",
    "                    return False\n",
    "            elif matrix[x][y] < target:\n",
    "                y += 1\n",
    "                if y > self.col:\n",
    "                    return False\n",
    "            else:\n",
    "                return True"
   ]
  },
  {
   "cell_type": "code",
   "execution_count": 41,
   "metadata": {},
   "outputs": [
    {
     "data": {
      "text/plain": [
       "False"
      ]
     },
     "execution_count": 41,
     "metadata": {},
     "output_type": "execute_result"
    }
   ],
   "source": [
    "Test = Solution()\n",
    "matrix = [[1, 3, 5, 7], [10, 11, 16, 20], [23, 30, 34, 50]]\n",
    "target = 13\n",
    "Test.searchMatrix(matrix, target)"
   ]
  },
  {
   "cell_type": "markdown",
   "metadata": {},
   "source": [
    "**solution2**"
   ]
  },
  {
   "cell_type": "code",
   "execution_count": 49,
   "metadata": {},
   "outputs": [],
   "source": [
    "class Solution:\n",
    "    def searchMatrix(self, matrix, target):\n",
    "        if matrix == [] or matrix == [[]]:\n",
    "            return False\n",
    "        row = len(matrix)\n",
    "        col = len(matrix[0])\n",
    "        start = 0\n",
    "        end = row*col - 1\n",
    "        while start + 1 < end:\n",
    "            mid = start + (end - start)//2\n",
    "            x = mid//col\n",
    "            y = mid%col\n",
    "            if matrix[x][y] > target:\n",
    "                end = mid\n",
    "            else:\n",
    "                start = mid\n",
    "        startx = start//col\n",
    "        starty = start%col\n",
    "        endx = end//col\n",
    "        endy = end%col\n",
    "        if matrix[startx][starty] == target:\n",
    "            return True\n",
    "        elif matrix[endx][endy] == target:\n",
    "            return True\n",
    "        else:\n",
    "            return False"
   ]
  },
  {
   "cell_type": "code",
   "execution_count": 50,
   "metadata": {},
   "outputs": [
    {
     "data": {
      "text/plain": [
       "False"
      ]
     },
     "execution_count": 50,
     "metadata": {},
     "output_type": "execute_result"
    }
   ],
   "source": [
    "Test = Solution()\n",
    "matrix = [[1, 3, 5, 7], [10, 11, 16, 20], [23, 30, 34, 50]]\n",
    "target = 13\n",
    "Test.searchMatrix(matrix, target)"
   ]
  },
  {
   "cell_type": "markdown",
   "metadata": {},
   "source": [
    "### 9. Search a 2D Matrix II (240)"
   ]
  },
  {
   "cell_type": "markdown",
   "metadata": {},
   "source": [
    "**solution1**"
   ]
  },
  {
   "cell_type": "code",
   "execution_count": 51,
   "metadata": {},
   "outputs": [],
   "source": [
    "class Solution:\n",
    "    def searchMatrix(self, matrix, target):\n",
    "        if matrix == [] or matrix == [[]]:\n",
    "            return False\n",
    "        x = len(matrix) - 1\n",
    "        y = 0\n",
    "        self.col = len(matrix[0]) - 1\n",
    "        self.row = x\n",
    "        res = self.move(x, y, matrix, target)\n",
    "        return res\n",
    "    def move(self, x, y, matrix, target):\n",
    "        count = 0\n",
    "        while count < (self.col + 1)*(self.row + 1):\n",
    "            count += 1\n",
    "            if matrix[x][y] > target:\n",
    "                x -= 1\n",
    "                if x < 0:\n",
    "                    return False\n",
    "            elif matrix[x][y] < target:\n",
    "                y += 1\n",
    "                if y > self.col:\n",
    "                    return False\n",
    "            else:\n",
    "                return True"
   ]
  },
  {
   "cell_type": "code",
   "execution_count": 53,
   "metadata": {
    "scrolled": true
   },
   "outputs": [
    {
     "data": {
      "text/plain": [
       "True"
      ]
     },
     "execution_count": 53,
     "metadata": {},
     "output_type": "execute_result"
    }
   ],
   "source": [
    "Test = Solution()\n",
    "matrix = [[1,4,7,11,15],[2,5,8,12,19],[3,6,9,16,22],[10,13,14,17,24],[18,21,23,26,30]]\n",
    "target = 5\n",
    "Test.searchMatrix(matrix, target)"
   ]
  },
  {
   "cell_type": "markdown",
   "metadata": {},
   "source": [
    "**solution2**"
   ]
  },
  {
   "cell_type": "code",
   "execution_count": 69,
   "metadata": {},
   "outputs": [],
   "source": [
    "class Solution:\n",
    "    def searchMatrix(self, matrix, target):\n",
    "        if matrix == [] or matrix == [[]]:\n",
    "            return False\n",
    "        row = len(matrix)\n",
    "        col = len(matrix[0])\n",
    "        x = 0\n",
    "        y = col - 1\n",
    "        while x <= row-1 and y >= 0:\n",
    "            if matrix[x][y] < target:\n",
    "                x += 1\n",
    "            elif matrix[x][y] > target:\n",
    "                y -= 1\n",
    "            else:\n",
    "                return True\n",
    "        return False"
   ]
  },
  {
   "cell_type": "code",
   "execution_count": 71,
   "metadata": {},
   "outputs": [
    {
     "data": {
      "text/plain": [
       "False"
      ]
     },
     "execution_count": 71,
     "metadata": {},
     "output_type": "execute_result"
    }
   ],
   "source": [
    "Test = Solution()\n",
    "# matrix = [[1,4,7,11,15],[2,5,8,12,19],[3,6,9,16,22],[10,13,14,17,24],[18,21,23,26,30]]\n",
    "matrix = [[-5]]\n",
    "target = -10\n",
    "Test.searchMatrix(matrix, target)"
   ]
  },
  {
   "cell_type": "markdown",
   "metadata": {},
   "source": [
    "### 10. Search in Rotated Sorted Array (33)"
   ]
  },
  {
   "cell_type": "code",
   "execution_count": 50,
   "metadata": {},
   "outputs": [],
   "source": [
    "class Solution:\n",
    "    def search(self, nums, target):\n",
    "        lenNums = len(nums)\n",
    "        if lenNums == 0:\n",
    "            return -1\n",
    "        \n",
    "        start = 0\n",
    "        end = lenNums - 1\n",
    "        while start + 1 < end:\n",
    "            mid = start + (end - start)//2\n",
    "            if nums[mid] == target:\n",
    "                return mid\n",
    "            # left is in order\n",
    "            if nums[mid] > nums[start]:\n",
    "                # target in the left\n",
    "                if target >= nums[start] and target < nums[mid]:\n",
    "                    end = mid\n",
    "                else:\n",
    "                # target in the right\n",
    "                    start = mid\n",
    "            # right is in order\n",
    "            else:\n",
    "                # target in the right\n",
    "                if target >= nums[mid] and target <= nums[end]:\n",
    "                    start = mid \n",
    "                else:\n",
    "                    end = mid\n",
    "        if nums[start] == target:\n",
    "            return start\n",
    "        if nums[end] == target:\n",
    "            return end\n",
    "        return -1"
   ]
  },
  {
   "cell_type": "code",
   "execution_count": 52,
   "metadata": {},
   "outputs": [
    {
     "data": {
      "text/plain": [
       "5"
      ]
     },
     "execution_count": 52,
     "metadata": {},
     "output_type": "execute_result"
    }
   ],
   "source": [
    "Test = Solution()\n",
    "Test.search(nums = [4,5,6,7,0,1,2], target = 1)"
   ]
  },
  {
   "cell_type": "markdown",
   "metadata": {},
   "source": [
    "### 11. Search in Rotated Sorted Array (33)"
   ]
  },
  {
   "cell_type": "code",
   "execution_count": 1,
   "metadata": {},
   "outputs": [],
   "source": [
    "class Solution:\n",
    "    def search(self, nums, target):\n",
    "        if nums == []:\n",
    "            return False\n",
    "        start = 0\n",
    "        end = len(nums) - 1\n",
    "        while start + 1 < end:\n",
    "            mid = start + (end - start)//2\n",
    "            if nums[mid] == target:\n",
    "                return True\n",
    "            # move left and right\n",
    "            if nums[mid] == nums[start]:\n",
    "                start += 1\n",
    "                continue\n",
    "            if nums[mid] == nums[end]:\n",
    "                end -= 1\n",
    "                continue\n",
    "            # left in order\n",
    "            if nums[mid] > nums[start]:\n",
    "                if target >= nums[start] and target <= nums[mid]:\n",
    "                    end = mid\n",
    "                else:\n",
    "                    start = mid\n",
    "            # right in order\n",
    "            else:\n",
    "                if target >= nums[mid] and target <= nums[end]:\n",
    "                    start = mid\n",
    "                else:\n",
    "                    end = mid\n",
    "        if nums[start] == target:\n",
    "            return True\n",
    "        if nums[end] == target:\n",
    "            return True\n",
    "        return False"
   ]
  },
  {
   "cell_type": "code",
   "execution_count": 3,
   "metadata": {},
   "outputs": [
    {
     "data": {
      "text/plain": [
       "True"
      ]
     },
     "execution_count": 3,
     "metadata": {},
     "output_type": "execute_result"
    }
   ],
   "source": [
    "Test = Solution()\n",
    "Test.search(nums = [4,4,4,4,4,1,2], target = 1)"
   ]
  },
  {
   "cell_type": "markdown",
   "metadata": {},
   "source": [
    "### 12. Find Minimum in Rotated Sorted Array (153)"
   ]
  },
  {
   "cell_type": "code",
   "execution_count": 4,
   "metadata": {},
   "outputs": [],
   "source": [
    "class Solution:\n",
    "    def findMin(self, nums):\n",
    "        if len(nums) == 1:\n",
    "            return nums[0]\n",
    "        start = 0\n",
    "        end = len(nums) - 1\n",
    "        while start + 1 < end:\n",
    "            mid = start + (end - start)//2\n",
    "            # right is disorder\n",
    "            if nums[end] < nums[mid]:\n",
    "                start = mid\n",
    "            else:\n",
    "                end = mid\n",
    "        if nums[start] > nums[end]:\n",
    "            return nums[end]\n",
    "        else:\n",
    "            return nums[start]"
   ]
  },
  {
   "cell_type": "markdown",
   "metadata": {},
   "source": [
    "### 13. Find Smallest Letter Greater Than Target (744)"
   ]
  },
  {
   "cell_type": "code",
   "execution_count": 1,
   "metadata": {},
   "outputs": [],
   "source": [
    "class Solution(object):\n",
    "    def nextGreatestLetter(self, letters, target):\n",
    "        \"\"\"\n",
    "        :type letters: List[str]\n",
    "        :type target: str\n",
    "        :rtype: str\n",
    "        \"\"\"\n",
    "        if letters == []:\n",
    "            return -1\n",
    "        start = 0\n",
    "        end = len(letters) - 1\n",
    "        while start + 1 < end:\n",
    "            mid = start + (end - start)//2\n",
    "            if letters[mid] == letters[start]:\n",
    "                start += 1\n",
    "                continue\n",
    "            if letters[mid] == letters[end]:\n",
    "                end -= 1\n",
    "                continue\n",
    "            if letters[mid] > target:\n",
    "                end = mid\n",
    "            if letters[mid] <= target:\n",
    "                start = mid\n",
    "            print(letters[start:end], start, end)\n",
    "        if letters[start] > target:\n",
    "            return letters[start]\n",
    "        if letters[end] > target:\n",
    "            return letters[end]\n",
    "        return letters[0]"
   ]
  }
 ],
 "metadata": {
  "kernelspec": {
   "display_name": "Python 3",
   "language": "python",
   "name": "python3"
  },
  "language_info": {
   "codemirror_mode": {
    "name": "ipython",
    "version": 3
   },
   "file_extension": ".py",
   "mimetype": "text/x-python",
   "name": "python",
   "nbconvert_exporter": "python",
   "pygments_lexer": "ipython3",
   "version": "3.6.6"
  }
 },
 "nbformat": 4,
 "nbformat_minor": 2
}
