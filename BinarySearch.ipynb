{
 "cells": [
  {
   "cell_type": "markdown",
   "metadata": {},
   "source": [
    "## 四大要素\n",
    "找第一次出现的位置，还是最后一次出现的位置\n",
    "\n",
    "1. start + 1 < end 避免死循环\n",
    "2. 考虑溢出: start + (end - start)/2，不写(start + end)/2\n",
    "3. end = mid, A[mid], ==, <, >\n",
    "4. 考虑是找A[start]还是A[end]"
   ]
  },
  {
   "cell_type": "markdown",
   "metadata": {},
   "source": [
    "## 同类题"
   ]
  },
  {
   "cell_type": "markdown",
   "metadata": {},
   "source": [
    "1. Search for a range  \n",
    "https://www.lintcode.com/problem/search-for-a-range/description  \n",
    "https://www.jiuzhang.com/solutions/search-for-a-range/\n",
    "2. Search Insert Position  \n",
    "https://www.lintcode.com/problem/search-insert-position/description  \n",
    "https://www.jiuzhang.com/solutions/search-insert-position/  \n",
    "3. Search a 2D Matrix  \n",
    "https://www.lintcode.com/problem/search-a-2d-matrix/  \n",
    "https://www.jiuzhang.com/solutions/search-a-2d-matrix/  \n",
    "4. Search a 2D Matrix II  \n",
    "https://www.lintcode.com/problem/search-a-2d-matrix-ii/description  \n",
    "5. First Bad Version  \n",
    "https://www.lintcode.com/problem/first-bad-version/  \n",
    "https://www.jiuzhang.com/solutions/first-bad-version/  \n",
    "6. Find Peak Element  \n",
    "http://www.lintcode.com/problem/find-peak-element/  \n",
    "http://www.jiuzhang.com/solutions/find-peak-element/  \n",
    "7. Rotated Sorted Array\n",
    "8. Find Minimum in Rotated Sorted Array  \n",
    "http://www.lintcode.com/problem/find-minimum-in-rotated-sorted-array/   \n",
    "http://www.jiuzhang.com/solutions/find-minimum-in-rotated-sorted-array/  \n",
    "9. Find Minimum in Rotated Sorted Array II  \n",
    "http://www.lintcode.com/zh-cn/problem/find-minimum-in-rotated-sorted-array-ii/  \n",
    "10. Search in Rotated Sorted Array  \n",
    "http://www.lintcode.com/problem/search-in-rotated-sorted-array/  \n",
    "http://www.jiuzhang.com/solutions/search-in-rotated-sorted-array/  \n",
    "11. Search in Rotated Sorted Array II  \n",
    "http://www.lintcode.com/problem/search-in-rotated-sorted-array-ii/  \n",
    "12. Median of Two Sorted Arrays  \n",
    "http://www.lintcode.com/problem/median-of-two-sorted-arrays/  \n",
    "http://www.ninechapter.com/solutions/median-of-two-sorted-arrays/  \n",
    "13. Recover Rotated Sorted Array 三步翻转法 45123 54321 12345  \n",
    "http://www.lintcode.com/problem/recover-rotated-sorted-array/  \n",
    "http://www.jiuzhang.com/solutions/recover-rotated-sorted-array/   \n",
    "14. Rotate String  \n",
    "http://www.lintcode.com/problem/rotate-string/  \n",
    "http://www.jiuzhang.com/solutions/rotate-string/  \n",
    "15. Reverse Words in a String  \n",
    "http://www.lintcode.com/problem/reverse-words-in-a-string/  \n",
    "http://www.jiuzhang.com/solutions/reverse-words-in-a-string/  \n",
    "16. merge sorted array"
   ]
  }
 ],
 "metadata": {
  "kernelspec": {
   "display_name": "Python 3",
   "language": "python",
   "name": "python3"
  },
  "language_info": {
   "codemirror_mode": {
    "name": "ipython",
    "version": 3
   },
   "file_extension": ".py",
   "mimetype": "text/x-python",
   "name": "python",
   "nbconvert_exporter": "python",
   "pygments_lexer": "ipython3",
   "version": "3.6.6"
  }
 },
 "nbformat": 4,
 "nbformat_minor": 2
}
